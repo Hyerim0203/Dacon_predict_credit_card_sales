{
 "cells": [
  {
   "cell_type": "code",
   "execution_count": 1,
   "metadata": {},
   "outputs": [],
   "source": [
    "import pandas as pd\n",
    "import numpy as np\n",
    "import sklearn\n",
    "from sklearn.ensemble import RandomForestRegressor\n",
    "from sklearn.preprocessing import LabelEncoder\n",
    "# from lightgbm.sklearn import LGBMRegressor\n",
    "# import lightgbm as lgb"
   ]
  },
  {
   "cell_type": "code",
   "execution_count": 2,
   "metadata": {
    "scrolled": false
   },
   "outputs": [
    {
     "data": {
      "text/html": [
       "<div>\n",
       "<style scoped>\n",
       "    .dataframe tbody tr th:only-of-type {\n",
       "        vertical-align: middle;\n",
       "    }\n",
       "\n",
       "    .dataframe tbody tr th {\n",
       "        vertical-align: top;\n",
       "    }\n",
       "\n",
       "    .dataframe thead th {\n",
       "        text-align: right;\n",
       "    }\n",
       "</style>\n",
       "<table border=\"1\" class=\"dataframe\">\n",
       "  <thead>\n",
       "    <tr style=\"text-align: right;\">\n",
       "      <th></th>\n",
       "      <th>CARD_SIDO_NM</th>\n",
       "      <th>STD_CLSS_NM</th>\n",
       "      <th>HOM_SIDO_NM</th>\n",
       "      <th>AGE</th>\n",
       "      <th>year</th>\n",
       "      <th>FLC</th>\n",
       "      <th>month</th>\n",
       "      <th>AMT</th>\n",
       "      <th>out_home</th>\n",
       "      <th>diff</th>\n",
       "      <th>검색량(=100)</th>\n",
       "      <th>confirmed</th>\n",
       "      <th>소비자심리지수</th>\n",
       "    </tr>\n",
       "  </thead>\n",
       "  <tbody>\n",
       "    <tr>\n",
       "      <th>0</th>\n",
       "      <td>강원</td>\n",
       "      <td>건강보조식품 소매업</td>\n",
       "      <td>강원</td>\n",
       "      <td>1020s</td>\n",
       "      <td>2019</td>\n",
       "      <td>family</td>\n",
       "      <td>2</td>\n",
       "      <td>216200</td>\n",
       "      <td>1</td>\n",
       "      <td>-0.106782</td>\n",
       "      <td>0.02146</td>\n",
       "      <td>0.0</td>\n",
       "      <td>97.1</td>\n",
       "    </tr>\n",
       "    <tr>\n",
       "      <th>1</th>\n",
       "      <td>강원</td>\n",
       "      <td>건강보조식품 소매업</td>\n",
       "      <td>강원</td>\n",
       "      <td>1020s</td>\n",
       "      <td>2019</td>\n",
       "      <td>single</td>\n",
       "      <td>2</td>\n",
       "      <td>1517000</td>\n",
       "      <td>1</td>\n",
       "      <td>-0.106782</td>\n",
       "      <td>0.02146</td>\n",
       "      <td>0.0</td>\n",
       "      <td>97.1</td>\n",
       "    </tr>\n",
       "    <tr>\n",
       "      <th>2</th>\n",
       "      <td>강원</td>\n",
       "      <td>건강보조식품 소매업</td>\n",
       "      <td>강원</td>\n",
       "      <td>3060s</td>\n",
       "      <td>2019</td>\n",
       "      <td>family</td>\n",
       "      <td>2</td>\n",
       "      <td>144433371</td>\n",
       "      <td>1</td>\n",
       "      <td>-0.106782</td>\n",
       "      <td>0.02146</td>\n",
       "      <td>0.0</td>\n",
       "      <td>97.1</td>\n",
       "    </tr>\n",
       "    <tr>\n",
       "      <th>3</th>\n",
       "      <td>강원</td>\n",
       "      <td>골프장 운영업</td>\n",
       "      <td>강원</td>\n",
       "      <td>1020s</td>\n",
       "      <td>2019</td>\n",
       "      <td>family</td>\n",
       "      <td>2</td>\n",
       "      <td>1629420</td>\n",
       "      <td>1</td>\n",
       "      <td>0.034461</td>\n",
       "      <td>0.02146</td>\n",
       "      <td>0.0</td>\n",
       "      <td>97.1</td>\n",
       "    </tr>\n",
       "    <tr>\n",
       "      <th>4</th>\n",
       "      <td>강원</td>\n",
       "      <td>골프장 운영업</td>\n",
       "      <td>강원</td>\n",
       "      <td>1020s</td>\n",
       "      <td>2019</td>\n",
       "      <td>single</td>\n",
       "      <td>2</td>\n",
       "      <td>8254950</td>\n",
       "      <td>1</td>\n",
       "      <td>0.034461</td>\n",
       "      <td>0.02146</td>\n",
       "      <td>0.0</td>\n",
       "      <td>97.1</td>\n",
       "    </tr>\n",
       "    <tr>\n",
       "      <th>...</th>\n",
       "      <td>...</td>\n",
       "      <td>...</td>\n",
       "      <td>...</td>\n",
       "      <td>...</td>\n",
       "      <td>...</td>\n",
       "      <td>...</td>\n",
       "      <td>...</td>\n",
       "      <td>...</td>\n",
       "      <td>...</td>\n",
       "      <td>...</td>\n",
       "      <td>...</td>\n",
       "      <td>...</td>\n",
       "      <td>...</td>\n",
       "    </tr>\n",
       "    <tr>\n",
       "      <th>265430</th>\n",
       "      <td>서울</td>\n",
       "      <td>정기 항공 운송업</td>\n",
       "      <td>충북</td>\n",
       "      <td>1020s</td>\n",
       "      <td>2020</td>\n",
       "      <td>single</td>\n",
       "      <td>4</td>\n",
       "      <td>3017380</td>\n",
       "      <td>0</td>\n",
       "      <td>-0.862732</td>\n",
       "      <td>40.21097</td>\n",
       "      <td>183.0</td>\n",
       "      <td>72.4</td>\n",
       "    </tr>\n",
       "    <tr>\n",
       "      <th>265431</th>\n",
       "      <td>서울</td>\n",
       "      <td>정기 항공 운송업</td>\n",
       "      <td>충북</td>\n",
       "      <td>3060s</td>\n",
       "      <td>2020</td>\n",
       "      <td>family</td>\n",
       "      <td>4</td>\n",
       "      <td>37190900</td>\n",
       "      <td>0</td>\n",
       "      <td>-0.862732</td>\n",
       "      <td>40.21097</td>\n",
       "      <td>183.0</td>\n",
       "      <td>72.4</td>\n",
       "    </tr>\n",
       "    <tr>\n",
       "      <th>265432</th>\n",
       "      <td>인천</td>\n",
       "      <td>정기 항공 운송업</td>\n",
       "      <td>충북</td>\n",
       "      <td>1020s</td>\n",
       "      <td>2020</td>\n",
       "      <td>single</td>\n",
       "      <td>4</td>\n",
       "      <td>54700</td>\n",
       "      <td>1</td>\n",
       "      <td>-0.862732</td>\n",
       "      <td>40.21097</td>\n",
       "      <td>29.0</td>\n",
       "      <td>72.4</td>\n",
       "    </tr>\n",
       "    <tr>\n",
       "      <th>265433</th>\n",
       "      <td>제주</td>\n",
       "      <td>정기 항공 운송업</td>\n",
       "      <td>충북</td>\n",
       "      <td>1020s</td>\n",
       "      <td>2020</td>\n",
       "      <td>single</td>\n",
       "      <td>4</td>\n",
       "      <td>480500</td>\n",
       "      <td>1</td>\n",
       "      <td>-0.862732</td>\n",
       "      <td>40.21097</td>\n",
       "      <td>4.0</td>\n",
       "      <td>72.4</td>\n",
       "    </tr>\n",
       "    <tr>\n",
       "      <th>265434</th>\n",
       "      <td>제주</td>\n",
       "      <td>정기 항공 운송업</td>\n",
       "      <td>충북</td>\n",
       "      <td>3060s</td>\n",
       "      <td>2020</td>\n",
       "      <td>family</td>\n",
       "      <td>4</td>\n",
       "      <td>3678500</td>\n",
       "      <td>1</td>\n",
       "      <td>-0.862732</td>\n",
       "      <td>40.21097</td>\n",
       "      <td>4.0</td>\n",
       "      <td>72.4</td>\n",
       "    </tr>\n",
       "  </tbody>\n",
       "</table>\n",
       "<p>265435 rows × 13 columns</p>\n",
       "</div>"
      ],
      "text/plain": [
       "       CARD_SIDO_NM STD_CLSS_NM HOM_SIDO_NM    AGE  year     FLC  month  \\\n",
       "0                강원  건강보조식품 소매업          강원  1020s  2019  family      2   \n",
       "1                강원  건강보조식품 소매업          강원  1020s  2019  single      2   \n",
       "2                강원  건강보조식품 소매업          강원  3060s  2019  family      2   \n",
       "3                강원     골프장 운영업          강원  1020s  2019  family      2   \n",
       "4                강원     골프장 운영업          강원  1020s  2019  single      2   \n",
       "...             ...         ...         ...    ...   ...     ...    ...   \n",
       "265430           서울   정기 항공 운송업          충북  1020s  2020  single      4   \n",
       "265431           서울   정기 항공 운송업          충북  3060s  2020  family      4   \n",
       "265432           인천   정기 항공 운송업          충북  1020s  2020  single      4   \n",
       "265433           제주   정기 항공 운송업          충북  1020s  2020  single      4   \n",
       "265434           제주   정기 항공 운송업          충북  3060s  2020  family      4   \n",
       "\n",
       "              AMT  out_home      diff  검색량(=100)  confirmed  소비자심리지수  \n",
       "0          216200         1 -0.106782    0.02146        0.0     97.1  \n",
       "1         1517000         1 -0.106782    0.02146        0.0     97.1  \n",
       "2       144433371         1 -0.106782    0.02146        0.0     97.1  \n",
       "3         1629420         1  0.034461    0.02146        0.0     97.1  \n",
       "4         8254950         1  0.034461    0.02146        0.0     97.1  \n",
       "...           ...       ...       ...        ...        ...      ...  \n",
       "265430    3017380         0 -0.862732   40.21097      183.0     72.4  \n",
       "265431   37190900         0 -0.862732   40.21097      183.0     72.4  \n",
       "265432      54700         1 -0.862732   40.21097       29.0     72.4  \n",
       "265433     480500         1 -0.862732   40.21097        4.0     72.4  \n",
       "265434    3678500         1 -0.862732   40.21097        4.0     72.4  \n",
       "\n",
       "[265435 rows x 13 columns]"
      ]
     },
     "execution_count": 2,
     "metadata": {},
     "output_type": "execute_result"
    }
   ],
   "source": [
    "#피처 다합쳐진 데이터프레임 불러오기(드라이브 상에 TRAIN(소수점포함) 파일 불러오면 됨)\n",
    "bm_ci_search_covid_consume = pd.read_csv('./train.csv')\n",
    "bm_ci_search_covid_consume.drop(['Unnamed: 0'],axis=1,inplace=True)\n",
    "bm_ci_search_covid_consume"
   ]
  },
  {
   "cell_type": "code",
   "execution_count": 3,
   "metadata": {},
   "outputs": [],
   "source": [
    "#home 분리(거주지, 사용지역 같은 데이터)\n",
    "home_condition = bm_ci_search_covid_consume['CARD_SIDO_NM']==bm_ci_search_covid_consume['HOM_SIDO_NM']\n",
    "home = bm_ci_search_covid_consume[home_condition]\n",
    "home.to_csv('train_home.csv', encoding='utf-8-sig')"
   ]
  },
  {
   "cell_type": "code",
   "execution_count": 4,
   "metadata": {},
   "outputs": [],
   "source": [
    "#out 분리(거주지, 사용지역 다른 데이터)\n",
    "out_condition = bm_ci_search_covid_consume['CARD_SIDO_NM']!=bm_ci_search_covid_consume['HOM_SIDO_NM']\n",
    "out = bm_ci_search_covid_consume[out_condition]\n",
    "out.to_csv('train_out.csv', encoding='utf-8-sig')"
   ]
  },
  {
   "cell_type": "markdown",
   "metadata": {},
   "source": [
    "# 19년 234월 20년 234월 차이값 계산"
   ]
  },
  {
   "cell_type": "code",
   "execution_count": null,
   "metadata": {},
   "outputs": [],
   "source": [
    "#2019년 234월 데이터 뽑아내기\n",
    "year2019 = home['year']==2019\n",
    "month2 = home['month']==2\n",
    "month3 = home['month']==3\n",
    "month4 = home['month']==4\n",
    "\n",
    "year2019_ = out['year']==2019\n",
    "month2_ = out['month']==2\n",
    "month3_ = out['month']==3\n",
    "month4_ = out['month']==4\n",
    "\n",
    "home_2019 = home[year2019&(month2|month3|month4)]\n",
    "out_2019 = out[year2019_&(month2_|month3_|month4_)]"
   ]
  },
  {
   "cell_type": "code",
   "execution_count": null,
   "metadata": {},
   "outputs": [],
   "source": [
    "#2020년 234월 데이터 뽑아내기\n",
    "year2020 = home['year']==2020\n",
    "month2 = home['month']==2\n",
    "month3 = home['month']==3\n",
    "month4 = home['month']==4\n",
    "\n",
    "year2020_ = out['year']==2020\n",
    "month2_ = out['month']==2\n",
    "month3_ = out['month']==3\n",
    "month4_ = out['month']==4\n",
    "\n",
    "home_2020 = home[year2020&(month2|month3|month4)]\n",
    "out_2020 = out[year2020_&(month2_|month3_|month4_)]"
   ]
  },
  {
   "cell_type": "code",
   "execution_count": null,
   "metadata": {
    "scrolled": true
   },
   "outputs": [],
   "source": [
    "#기존 데이터의 피처가 같은 것끼리 매칭시키기 위해 merge\n",
    "home_merge = pd.merge(home_2019,home_2020,on=['CARD_SIDO_NM','STD_CLSS_NM','HOM_SIDO_NM','AGE','FLC','month'])\n",
    "out_merge = pd.merge(out_2019,out_2020,on=['CARD_SIDO_NM','STD_CLSS_NM','HOM_SIDO_NM','AGE','FLC','month'])"
   ]
  },
  {
   "cell_type": "code",
   "execution_count": null,
   "metadata": {},
   "outputs": [],
   "source": [
    "home_merge = home_merge.drop(['year_x','year_y','out_home_x','diff_x','검색량(=100)_x','confirmed_x','소비자심리지수_x'],axis=1)\n",
    "out_merge = out_merge.drop(['year_x','year_y','out_home_x','diff_x','검색량(=100)_x','confirmed_x','소비자심리지수_x'],axis=1)\n",
    "\n",
    "#2019년 2020년 AMT 차이값 계산\n",
    "home_merge['AMT_DIFF'] = (home_merge['AMT_x']-home_merge['AMT_y'])\n",
    "out_merge['AMT_DIFF'] = (out_merge['AMT_x']-out_merge['AMT_y'])\n",
    "# home_merge['AMT_DIFF'] = home_merge['AMT_DIFF'].map(log)\n",
    "# out_merge['AMT_DIFF'] = out_merge['AMT_DIFF'].map(log)\n",
    "\n",
    "home_merge = home_merge.drop(['AMT_x','AMT_y'],axis=1)\n",
    "out_merge = out_merge.drop(['AMT_x','AMT_y'],axis=1)"
   ]
  },
  {
   "cell_type": "code",
   "execution_count": null,
   "metadata": {},
   "outputs": [],
   "source": [
    "#이상치 범위 조정\n",
    "home_merge = home_merge[home_merge['AMT_DIFF']<10000000]\n",
    "home_merge = home_merge[-10000000<home_merge['AMT_DIFF']]\n",
    "out_merge = out_merge[out_merge['AMT_DIFF']<1000000]\n",
    "out_merge = out_merge[-1000000<out_merge['AMT_DIFF']]"
   ]
  },
  {
   "cell_type": "code",
   "execution_count": null,
   "metadata": {},
   "outputs": [],
   "source": [
    "import warnings\n",
    "warnings.filterwarnings('ignore')\n",
    "import pandas as pd\n",
    "import numpy as np\n",
    "import seaborn as sns\n",
    "import matplotlib.pyplot as plt\n",
    "\n",
    "#타겟값 형태파악\n",
    "sns.distplot(out_merge['AMT_DIFF'])"
   ]
  },
  {
   "cell_type": "markdown",
   "metadata": {},
   "source": [
    "# 모델 성능확인"
   ]
  },
  {
   "cell_type": "code",
   "execution_count": null,
   "metadata": {},
   "outputs": [],
   "source": [
    "#AMT차이가 양수이면 그냥 로그씌우고 음수이면 -없애고 로그 씌우고 -붙이는 함수\n",
    "#성능이 너무안좋아서 우선 음수인경우 0으로\n",
    "# def log(amt_diff):\n",
    "#     if amt_diff >= 0:\n",
    "#         amt_diff = np.log1p(amt_diff)\n",
    "#     else:\n",
    "#         amt_diff = -np.log1p(-amt_diff)\n",
    "#     return amt_diff"
   ]
  },
  {
   "cell_type": "code",
   "execution_count": null,
   "metadata": {},
   "outputs": [],
   "source": [
    "#target값 로그변환\n",
    "\n",
    "# home_merge['AMT_DIFF'] = home_merge['AMT_DIFF'].map(log)\n",
    "# out_merge['AMT_DIFF'] = out_merge['AMT_DIFF'].map(log)\n",
    "\n",
    "#명목형 변수 원핫인코딩\n",
    "home_dummy = pd.get_dummies(home_merge,columns=['CARD_SIDO_NM','STD_CLSS_NM','HOM_SIDO_NM','AGE','FLC','month'])\n",
    "out_dummy = pd.get_dummies(out_merge,columns=['CARD_SIDO_NM','STD_CLSS_NM','HOM_SIDO_NM','AGE','FLC','month'])"
   ]
  },
  {
   "cell_type": "code",
   "execution_count": null,
   "metadata": {
    "scrolled": true
   },
   "outputs": [],
   "source": [
    "out_dummy"
   ]
  },
  {
   "cell_type": "code",
   "execution_count": null,
   "metadata": {},
   "outputs": [],
   "source": [
    "#RMSLE함수 정의\n",
    "def get_rmsle_home(model): \n",
    "    pred = model.predict(Xhome_test)\n",
    "    squared_error = (np.log((yhome_test+1)/(pred+1)))** 2\n",
    "    rmsle = np.sqrt(np.mean(squared_error))\n",
    "    print(rmsle)\n",
    "    return rmsle\n",
    "\n",
    "def get_rmsle_out(model): \n",
    "    pred = model.predict(Xout_test)\n",
    "    squared_error = (np.log((yout_test+1)/(pred+1)))** 2\n",
    "    rmsle = np.sqrt(np.mean(squared_error))\n",
    "    print(rmsle)\n",
    "    return rmsle\n",
    "\n",
    "# def get_rmsles(models):\n",
    "#     rmsles = [ ]\n",
    "#     for model in models:\n",
    "#         rmsle = get_rmsle(model)\n",
    "#         rmsles.append(rmsle)\n",
    "#     return rmsles"
   ]
  },
  {
   "cell_type": "code",
   "execution_count": null,
   "metadata": {},
   "outputs": [],
   "source": [
    "from sklearn import preprocessing\n",
    "\n",
    "#인풋데이터(피처) 생성\n",
    "home_features = home_dummy.drop('AMT_DIFF',axis=1, inplace=False)\n",
    "out_features = out_dummy.drop('AMT_DIFF',axis=1, inplace=False)\n",
    "\n",
    "#인풋데이터에 정규화 적용\n",
    "min_max_scaler = preprocessing.MinMaxScaler()\n",
    "home_scaled = min_max_scaler.fit_transform(home_features)\n",
    "out_scaled = min_max_scaler.fit_transform(out_features)\n",
    "\n",
    "home_features = pd.DataFrame(home_scaled)\n",
    "out_features = pd.DataFrame(out_scaled)"
   ]
  },
  {
   "cell_type": "code",
   "execution_count": null,
   "metadata": {},
   "outputs": [],
   "source": [
    "from sklearn.model_selection import train_test_split\n",
    "from sklearn.metrics import mean_squared_error\n",
    "\n",
    "#타겟값 생성\n",
    "home_target = home_dummy['AMT_DIFF']\n",
    "out_target = out_dummy['AMT_DIFF']\n",
    "\n",
    "#학습,테스트 데이터 분리\n",
    "Xhome_train, Xhome_test, yhome_train, yhome_test = train_test_split(home_features, home_target, test_size=0.2, random_state=0)\n",
    "Xout_train, Xout_test, yout_train, yout_test = train_test_split(out_features, out_target, test_size=0.2, random_state=0)"
   ]
  },
  {
   "cell_type": "code",
   "execution_count": null,
   "metadata": {},
   "outputs": [],
   "source": [
    "from sklearn.linear_model import Lasso\n",
    "from sklearn.ensemble import RandomForestRegressor\n",
    "\n",
    "# Lasso\n",
    "lasso_home = Lasso()\n",
    "lasso_out = Lasso()\n",
    "\n",
    "lasso_home.fit(Xhome_train, yhome_train)\n",
    "lasso_out.fit(Xout_train, yout_train)"
   ]
  },
  {
   "cell_type": "code",
   "execution_count": null,
   "metadata": {},
   "outputs": [],
   "source": [
    "# RamdomForestRegressor\n",
    "\n",
    "rf_home = RandomForestRegressor(random_state=0)\n",
    "rf_out = RandomForestRegressor(random_state=0)\n",
    "\n",
    "rf_home.fit(Xhome_train, yhome_train)\n",
    "rf_out.fit(Xout_train, yout_train)"
   ]
  },
  {
   "cell_type": "code",
   "execution_count": null,
   "metadata": {
    "scrolled": true
   },
   "outputs": [],
   "source": [
    "#차이값에 대한 rmsle결과 확인\n",
    "\n",
    "get_rmsle_out(lasso_out)\n",
    "get_rmsle_home(lasso_home)\n",
    "\n",
    "get_rmsle_out(rf_out)\n",
    "get_rmsle_home(rf_home)"
   ]
  },
  {
   "cell_type": "code",
   "execution_count": null,
   "metadata": {},
   "outputs": [],
   "source": [
    "def rmsle(estimator, X, y0):\n",
    "    pred = estimator.predict(X)\n",
    "    squared_error = (np.log((y0+1)/(pred+1)))** 2\n",
    "    rmsle = np.sqrt(np.mean(squared_error))\n",
    "    if math.isnan(rmsle):\n",
    "        print(\"this is a nan\")\n",
    "\n",
    "    return -rmsle"
   ]
  },
  {
   "cell_type": "code",
   "execution_count": null,
   "metadata": {},
   "outputs": [],
   "source": [
    "# RandomForest 그리드 서치\n",
    "\n",
    "rmsle_scorer = metrics.make_scorer(rmsle, greater_is_better=False)\n",
    "pipe_rf = Pipline([('scaler', StandardScaler()), ('reg', RandomForestRegressor(random_state=0))])\n",
    "\n",
    "param_grid = [{'scaler':[StandardScaler()], 'n_estimators': [500], 'max_depth':[4,6,8,10], 'min_samples_leaf':[2,4,6], 'min_samples_split':[6,8,10]}]\n",
    "\n",
    "rf_home = GridSearchCV(estimator=pipe_rf, param_grid = param_grid, cv=5, scoring = rmsle, n_jobs=-1)\n",
    "rf_out = GridSearchCV(estimator=pipe_rf, param_grid = param_grid, cv=5, scoring = rmsle, n_jobs=-1)\n",
    "\n",
    "rf_home.fit(home_features, home_target)\n",
    "rf_out.fit(out_features, out_target)"
   ]
  },
  {
   "cell_type": "code",
   "execution_count": null,
   "metadata": {},
   "outputs": [],
   "source": [
    "print('rf_home')\n",
    "print(rf_home.best_score_)\n",
    "print(rf_home.best_params_)"
   ]
  },
  {
   "cell_type": "code",
   "execution_count": null,
   "metadata": {},
   "outputs": [],
   "source": [
    "print('rf_out')\n",
    "print(rf_out.best_score_)\n",
    "print(rf_out.best_params_)"
   ]
  },
  {
   "cell_type": "code",
   "execution_count": null,
   "metadata": {},
   "outputs": [],
   "source": [
    "# Lasso 그리드 서치\n",
    "\n",
    "rmsle_scorer = metrics.make_scorer(rmsle, greater_is_better=False)\n",
    "pipe_lasso = Pipeline([('scaler', StandardScaler()), ('reg', Lasso())])\n",
    "\n",
    "param_range = [1000000,100000000]\n",
    "param_grid = [{'scaler': [StandardScaler()],'reg__alpha': param_range}]\n",
    "\n",
    "\n",
    "lasso_home = GridSearchCV(estimator=pipe_lasso, param_grid=param_grid,\n",
    "                   scoring=rmsle,cv=5, n_jobs=-1)\n",
    "lasso_out = GridSearchCV(estimator=pipe_lasso, param_grid=param_grid,\n",
    "                   scoring=rmsle,cv=5, n_jobs=-1)\n",
    "\n",
    "lasso_home.fit(home_features, home_target)\n",
    "lasso_out.fit(out_features, out_target)"
   ]
  },
  {
   "cell_type": "code",
   "execution_count": null,
   "metadata": {},
   "outputs": [],
   "source": [
    "print('lasso_home')\n",
    "print(lasso_home.best_score_)\n",
    "print(lasso_home.best_params_)"
   ]
  },
  {
   "cell_type": "code",
   "execution_count": null,
   "metadata": {},
   "outputs": [],
   "source": [
    "print('lasso_out')\n",
    "print(lasso_out.best_score_)\n",
    "print(lasso_out.best_params_)\n",
    "\n",
    "# 지금 컴퓨터에 문제가 있어서 수정 후에 랜덤포레스트 부분을 다시 못 돌려봤는데 혹시 오류 나면 말씀해주세요 ㅠㅠ"
   ]
  }
 ],
 "metadata": {
  "kernelspec": {
   "display_name": "Python 3",
   "language": "python",
   "name": "python3"
  },
  "language_info": {
   "codemirror_mode": {
    "name": "ipython",
    "version": 3
   },
   "file_extension": ".py",
   "mimetype": "text/x-python",
   "name": "python",
   "nbconvert_exporter": "python",
   "pygments_lexer": "ipython3",
   "version": "3.7.6"
  }
 },
 "nbformat": 4,
 "nbformat_minor": 4
}

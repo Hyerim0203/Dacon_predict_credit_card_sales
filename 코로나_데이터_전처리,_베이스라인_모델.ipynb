{
 "cells": [
  {
   "cell_type": "code",
   "execution_count": 1,
   "metadata": {
    "colab": {},
    "colab_type": "code",
    "id": "ai0CXqtF8wx1"
   },
   "outputs": [],
   "source": [
    "import pandas as pd\n",
    "import numpy as np\n",
    "import sklearn\n",
    "from sklearn.ensemble import RandomForestRegressor\n",
    "from sklearn.preprocessing import LabelEncoder\n",
    "import lightgbm as lgb"
   ]
  },
  {
   "cell_type": "code",
   "execution_count": null,
   "metadata": {
    "colab": {},
    "colab_type": "code",
    "id": "_wNoKfya8zTM"
   },
   "outputs": [],
   "source": [
    "data = pd.read_csv('./jeju_data_201901-202003/201901-202003.csv')"
   ]
  },
  {
   "cell_type": "code",
   "execution_count": 3,
   "metadata": {
    "colab": {},
    "colab_type": "code",
    "id": "73RlbP-r82MW"
   },
   "outputs": [],
   "source": [
    "def grap_year(data):\n",
    "    data = str(data)\n",
    "    return int(data[:4])\n",
    "\n",
    "def grap_month(data):\n",
    "    data = str(data)\n",
    "    return int(data[4:])\n",
    "\n",
    "def grap_month_covid(data):\n",
    "    data = str(data)\n",
    "    return int(data[5:7])\n",
    "\n",
    "def grap_date_covid(data):\n",
    "    data = str(data)\n",
    "    return int(data[8:10])"
   ]
  },
  {
   "cell_type": "code",
   "execution_count": 18,
   "metadata": {
    "colab": {},
    "colab_type": "code",
    "id": "mmUW_XLv3xVh"
   },
   "outputs": [],
   "source": [
    "#코로나 데이터 처리\n",
    "covid = pd.read_csv('./Covid19.csv')\n",
    "covid = covid.drop(['time','released','deceased'],axis=1)\n",
    "covid = covid[covid['date'].isin(['2020-01-31','2020-02-29','2020-03-31','2020-04-30'])]\n",
    "\n",
    "covid['month'] = covid['date'].apply(lambda x: grap_month_covid(x))\n",
    "covid['year'] = covid['date'].apply(lambda x: grap_year(x))\n",
    "covid = covid.drop(['date'],axis=1)\n",
    "covid = covid.sort_values(by=['province','year','month'])\n",
    "\n",
    "be = ['Seoul', 'Busan', 'Daegu', 'Incheon', 'Gwangju', 'Daejeon',\n",
    "       'Ulsan', 'Sejong', 'Gyeonggi-do', 'Gangwon-do',\n",
    "       'Chungcheongbuk-do', 'Chungcheongnam-do', 'Jeollabuk-do',\n",
    "       'Jeollanam-do', 'Gyeongsangbuk-do', 'Gyeongsangnam-do', 'Jeju-do']\n",
    "af = ['서울', '부산', '대구', '인천', '광주', '대전', '울산', '세종', '경기', '강원', '충북',\n",
    "       '충남', '전북', '전남', '경북', '경남', '제주']\n"
   ]
  },
  {
   "cell_type": "code",
   "execution_count": 19,
   "metadata": {
    "colab": {},
    "colab_type": "code",
    "id": "xpzM2JqH37ux"
   },
   "outputs": [],
   "source": [
    "for i in range(len(covid['province'].unique())):\n",
    "    covid['province'].replace(be[i],af[i], inplace=True)\n",
    "    \n",
    "covid_eda = covid.copy()"
   ]
  },
  {
   "cell_type": "code",
   "execution_count": 23,
   "metadata": {},
   "outputs": [],
   "source": [
    "covid_eda.to_csv(\"./preprocissing_covid19.csv\",index=False)"
   ]
  },
  {
   "cell_type": "code",
   "execution_count": 21,
   "metadata": {
    "colab": {},
    "colab_type": "code",
    "id": "UBVxmJ074BDe"
   },
   "outputs": [],
   "source": [
    "for i in range(len(covid)-1):\n",
    "    if covid.iloc[i+1,0]==covid.iloc[i,0]:\n",
    "        covid_eda.iloc[i+1,1]=covid.iloc[i+1,1]-covid.iloc[i,1]\n",
    "        \n",
    "covid_eda.rename({'province':'CARD_SIDO_NM'},axis='columns',inplace=True)"
   ]
  },
  {
   "cell_type": "code",
   "execution_count": 22,
   "metadata": {
    "colab": {},
    "colab_type": "code",
    "id": "-zVtROEB4Jor"
   },
   "outputs": [
    {
     "data": {
      "text/html": [
       "<div>\n",
       "<style scoped>\n",
       "    .dataframe tbody tr th:only-of-type {\n",
       "        vertical-align: middle;\n",
       "    }\n",
       "\n",
       "    .dataframe tbody tr th {\n",
       "        vertical-align: top;\n",
       "    }\n",
       "\n",
       "    .dataframe thead th {\n",
       "        text-align: right;\n",
       "    }\n",
       "</style>\n",
       "<table border=\"1\" class=\"dataframe\">\n",
       "  <thead>\n",
       "    <tr style=\"text-align: right;\">\n",
       "      <th></th>\n",
       "      <th>CARD_SIDO_NM</th>\n",
       "      <th>confirmed</th>\n",
       "      <th>month</th>\n",
       "      <th>year</th>\n",
       "    </tr>\n",
       "  </thead>\n",
       "  <tbody>\n",
       "    <tr>\n",
       "      <th>188</th>\n",
       "      <td>부산</td>\n",
       "      <td>0</td>\n",
       "      <td>1</td>\n",
       "      <td>2020</td>\n",
       "    </tr>\n",
       "    <tr>\n",
       "      <th>681</th>\n",
       "      <td>부산</td>\n",
       "      <td>80</td>\n",
       "      <td>2</td>\n",
       "      <td>2020</td>\n",
       "    </tr>\n",
       "    <tr>\n",
       "      <th>1208</th>\n",
       "      <td>부산</td>\n",
       "      <td>39</td>\n",
       "      <td>3</td>\n",
       "      <td>2020</td>\n",
       "    </tr>\n",
       "    <tr>\n",
       "      <th>1718</th>\n",
       "      <td>부산</td>\n",
       "      <td>18</td>\n",
       "      <td>4</td>\n",
       "      <td>2020</td>\n",
       "    </tr>\n",
       "    <tr>\n",
       "      <th>197</th>\n",
       "      <td>충북</td>\n",
       "      <td>0</td>\n",
       "      <td>1</td>\n",
       "      <td>2020</td>\n",
       "    </tr>\n",
       "    <tr>\n",
       "      <th>...</th>\n",
       "      <td>...</td>\n",
       "      <td>...</td>\n",
       "      <td>...</td>\n",
       "      <td>...</td>\n",
       "    </tr>\n",
       "    <tr>\n",
       "      <th>1717</th>\n",
       "      <td>서울</td>\n",
       "      <td>183</td>\n",
       "      <td>4</td>\n",
       "      <td>2020</td>\n",
       "    </tr>\n",
       "    <tr>\n",
       "      <th>193</th>\n",
       "      <td>울산</td>\n",
       "      <td>0</td>\n",
       "      <td>1</td>\n",
       "      <td>2020</td>\n",
       "    </tr>\n",
       "    <tr>\n",
       "      <th>686</th>\n",
       "      <td>울산</td>\n",
       "      <td>17</td>\n",
       "      <td>2</td>\n",
       "      <td>2020</td>\n",
       "    </tr>\n",
       "    <tr>\n",
       "      <th>1213</th>\n",
       "      <td>울산</td>\n",
       "      <td>22</td>\n",
       "      <td>3</td>\n",
       "      <td>2020</td>\n",
       "    </tr>\n",
       "    <tr>\n",
       "      <th>1723</th>\n",
       "      <td>울산</td>\n",
       "      <td>4</td>\n",
       "      <td>4</td>\n",
       "      <td>2020</td>\n",
       "    </tr>\n",
       "  </tbody>\n",
       "</table>\n",
       "<p>68 rows × 4 columns</p>\n",
       "</div>"
      ],
      "text/plain": [
       "     CARD_SIDO_NM  confirmed  month  year\n",
       "188            부산          0      1  2020\n",
       "681            부산         80      2  2020\n",
       "1208           부산         39      3  2020\n",
       "1718           부산         18      4  2020\n",
       "197            충북          0      1  2020\n",
       "...           ...        ...    ...   ...\n",
       "1717           서울        183      4  2020\n",
       "193            울산          0      1  2020\n",
       "686            울산         17      2  2020\n",
       "1213           울산         22      3  2020\n",
       "1723           울산          4      4  2020\n",
       "\n",
       "[68 rows x 4 columns]"
      ]
     },
     "execution_count": 22,
     "metadata": {},
     "output_type": "execute_result"
    }
   ],
   "source": [
    "covid_eda"
   ]
  },
  {
   "cell_type": "code",
   "execution_count": null,
   "metadata": {
    "colab": {},
    "colab_type": "code",
    "id": "7CsJl89m9bTH"
   },
   "outputs": [],
   "source": [
    "# 날짜 처리\n",
    "data = data.fillna('')\n",
    "data['year'] = data['REG_YYMM'].apply(lambda x: grap_year(x))\n",
    "data['month'] = data['REG_YYMM'].apply(lambda x: grap_month(x))\n",
    "data = data.drop(['REG_YYMM'], axis=1)"
   ]
  },
  {
   "cell_type": "code",
   "execution_count": null,
   "metadata": {
    "colab": {},
    "colab_type": "code",
    "id": "soULo0r79eK5"
   },
   "outputs": [],
   "source": [
    "# 데이터 정제\n",
    "df = data.copy()\n",
    "df = df.drop(['CARD_CCG_NM', 'HOM_CCG_NM','SEX_CTGO_CD'], axis=1)\n",
    "\n",
    "columns = ['CARD_SIDO_NM', 'STD_CLSS_NM', 'HOM_SIDO_NM', 'AGE','year','FLC','month']\n",
    "df = df.groupby(columns).sum().reset_index(drop=False)\n",
    "df = df.sort_values(by=['year', 'month'] ,ascending=True)\n",
    "#df = df.drop(['year'], axis=1)"
   ]
  },
  {
   "cell_type": "code",
   "execution_count": null,
   "metadata": {
    "colab": {},
    "colab_type": "code",
    "id": "gyp-qEmRk98v"
   },
   "outputs": [],
   "source": [
    "df_covid = pd.merge(df,covid_eda,how='left')\n",
    "df_covid = df_covid.fillna(0)"
   ]
  },
  {
   "cell_type": "code",
   "execution_count": null,
   "metadata": {
    "colab": {},
    "colab_type": "code",
    "id": "2EgmB9Qc-IKy"
   },
   "outputs": [],
   "source": [
    "# 인코딩\n",
    "dtypes = df_covid.dtypes\n",
    "encoders = {}\n",
    "for column in df_covid.columns:\n",
    "    if str(dtypes[column]) == 'object':\n",
    "        encoder = LabelEncoder()\n",
    "        encoder.fit(df_covid[column])\n",
    "        encoders[column] = encoder\n",
    "        \n",
    "#df_num = df.copy()        \n",
    "for column in encoders.keys():\n",
    "    encoder = encoders[column]\n",
    "    df_covid[column] = encoder.transform(df_covid[column])"
   ]
  },
  {
   "cell_type": "code",
   "execution_count": null,
   "metadata": {
    "colab": {},
    "colab_type": "code",
    "id": "D-6Rixj8-Loi"
   },
   "outputs": [],
   "source": [
    "# feature, target 설정\n",
    "# train_features = train_num.drop(['CSTMR_CNT', 'AMT', 'CNT'], axis=1)\n",
    "# train_target = np.log1p(train_num['AMT'])\n",
    "x = df_covid.drop(['CSTMR_CNT', 'AMT', 'CNT'], axis=1)\n",
    "y = df_covid['AMT']"
   ]
  },
  {
   "cell_type": "code",
   "execution_count": null,
   "metadata": {
    "colab": {},
    "colab_type": "code",
    "id": "3P00t9AA427U"
   },
   "outputs": [],
   "source": [
    "df_covid"
   ]
  },
  {
   "cell_type": "code",
   "execution_count": null,
   "metadata": {
    "colab": {},
    "colab_type": "code",
    "id": "Jrhtc9bISups"
   },
   "outputs": [],
   "source": [
    "x = np.array(x)\n",
    "y = np.array(y)"
   ]
  },
  {
   "cell_type": "code",
   "execution_count": null,
   "metadata": {
    "colab": {},
    "colab_type": "code",
    "id": "jx-uvBDRBw98"
   },
   "outputs": [],
   "source": [
    "##loss 정의\n",
    "# log 값 변환 시 NaN등의 이슈로 log() 가 아닌 log1p() 를 이용하여 RMSLE 계산\n",
    "def rmsle(y, pred):\n",
    "    log_y = np.log1p(y)\n",
    "    log_pred = np.log1p(pred)\n",
    "    squared_error = (log_y - log_pred) ** 2\n",
    "    rmsle = np.sqrt(np.mean(squared_error))\n",
    "    return rmsle\n",
    "\n",
    "# def mse_AIFrenz(y_true, y_pred, **kwargs):\n",
    "#     '''\n",
    "#     y_true: 실제 값\n",
    "#     y_pred: 예측 값\n",
    "#     '''\n",
    "#     diff = abs(y_true - y_pred)\n",
    "    \n",
    "#     less_then_one = np.where(diff < 1, 0, diff)\n",
    "    \n",
    "#     score = np.average(np.average(less_then_one ** 2, axis = 0))\n",
    "#     return score\n",
    "\n",
    "##lgbm custom loss\n",
    "def rmsle_score(pred, dataset):\n",
    "    y = dataset.get_label()\n",
    "    log_y = np.log1p(y)\n",
    "    log_pred = np.log1p(pred)\n",
    "    squared_error = (log_y - log_pred) ** 2\n",
    "    rmsle = np.sqrt(np.mean(squared_error))\n",
    "    return 'score', rmsle, False"
   ]
  },
  {
   "cell_type": "code",
   "execution_count": null,
   "metadata": {
    "colab": {},
    "colab_type": "code",
    "id": "qOOOIRDgB6EK"
   },
   "outputs": [],
   "source": [
    "def lgb_train(x_train,y_train,params):\n",
    "    lgb_train = lgb.Dataset(x_train,y_train)\n",
    "    lgb_model = lgb.train(params, \n",
    "                       lgb_train,\n",
    "                       feval=rmsle_score,\n",
    "                       valid_sets=[lgb_train],\n",
    "                       verbose_eval=False)\n",
    "    return lgb_model\n",
    "\n",
    "# lgb basic pparams\n",
    "params = {\n",
    "    'learning_rate' : 0.1,\n",
    "    'n_estimators' : 100,\n",
    "    'objective': 'tweedie',\n",
    "    'tweedie_variance_power': 1.1,\n",
    "    'metric' : 'rmsle_score',\n",
    "    'boosting_type' : 'gbdt',\n",
    "    'n_jobs': -1,\n",
    "}\n",
    "\n"
   ]
  },
  {
   "cell_type": "code",
   "execution_count": null,
   "metadata": {
    "colab": {},
    "colab_type": "code",
    "id": "gfcCWMhxDOXz"
   },
   "outputs": [],
   "source": [
    "def k_cross_validation(k,t,delta):\n",
    "    error=0\n",
    "    for i in range(k):\n",
    "        x_train = x[:(t+(i+1)*delta)]\n",
    "        y_train = y[:(t+(i+1)*delta)]\n",
    "        # x_val = x[:delta]\n",
    "        # y_val = y[:delta]\n",
    "        x_val = x[(t+(i+1)*delta):(t+2*(i+1)*delta)]\n",
    "        y_val = y[(t+(i+1)*delta):(t+2*(i+1)*delta)]\n",
    "        \n",
    "        \n",
    "        lgb_model = lgb_train(x_train,y_train,params)\n",
    "        pred=lgb_model.predict(x_val)\n",
    "        print(x_val)\n",
    "        print(y_val)\n",
    "        # for j in pred:\n",
    "        #     if j<0:\n",
    "        #         print(j)\n",
    "        print(pred)\n",
    "\n",
    "        print('\\RMSLE : {}'.format(rmsle(y_val, pred)))\n",
    "        error += rmsle(y_val, pred)\n",
    "    return error / k"
   ]
  },
  {
   "cell_type": "code",
   "execution_count": null,
   "metadata": {
    "colab": {},
    "colab_type": "code",
    "id": "M-nBN99NDQ2L"
   },
   "outputs": [],
   "source": [
    "k = 3\n",
    "t = int(len(x)*(11/15))\n",
    "delta = int(len(x)*(1/15))\n",
    "#result_df = pd.DataFrame(columns=['scaler','input_days','MAE'])\n",
    "\n",
    "# for scaler in [None,'minmax']:\n",
    "#     for input_days in [3,5]:\n",
    "#         error = k_cross_validation(k)\n",
    "#         result_df = result_df.append({'scaler':scaler, 'input_days':input_days, 'MAE':error}, ignore_index=True)\n",
    "#         print(\"-------------------------------\")\n",
    "#         print('Parameter : {}, {} / MAE {}'.format(scaler, input_days, error))\n",
    "#         print(\"===============================\")\n",
    "error = k_cross_validation(k,t,delta)"
   ]
  },
  {
   "cell_type": "code",
   "execution_count": null,
   "metadata": {
    "colab": {},
    "colab_type": "code",
    "id": "UhDZmTtvZ10I"
   },
   "outputs": [],
   "source": []
  },
  {
   "cell_type": "code",
   "execution_count": null,
   "metadata": {
    "colab": {},
    "colab_type": "code",
    "id": "2kXITHjd-Pzc"
   },
   "outputs": [],
   "source": [
    "# 예측 템플릿 만들기\n",
    "CARD_SIDO_NMs = df_num['CARD_SIDO_NM'].unique()\n",
    "STD_CLSS_NMs  = df_num['STD_CLSS_NM'].unique()\n",
    "HOM_SIDO_NMs  = df_num['HOM_SIDO_NM'].unique()\n",
    "AGEs          = df_num['AGE'].unique()\n",
    "SEX_CTGO_CDs  = df_num['SEX_CTGO_CD'].unique()\n",
    "FLCs          = df_num['FLC'].unique()\n",
    "years         = [2020]\n",
    "months        = [4, 7]\n",
    "\n",
    "temp = []\n",
    "for CARD_SIDO_NM in CARD_SIDO_NMs:\n",
    "    for STD_CLSS_NM in STD_CLSS_NMs:\n",
    "        for HOM_SIDO_NM in HOM_SIDO_NMs:\n",
    "            for AGE in AGEs:\n",
    "                for SEX_CTGO_CD in SEX_CTGO_CDs:\n",
    "                    for FLC in FLCs:\n",
    "                        for year in years:\n",
    "                            for month in months:\n",
    "                                temp.append([CARD_SIDO_NM, STD_CLSS_NM, HOM_SIDO_NM, AGE, SEX_CTGO_CD, FLC, year, month])\n",
    "temp = np.array(temp)\n",
    "temp = pd.DataFrame(data=temp, columns=x.columns)"
   ]
  },
  {
   "cell_type": "code",
   "execution_count": null,
   "metadata": {
    "colab": {},
    "colab_type": "code",
    "id": "TfichL6dBEar"
   },
   "outputs": [],
   "source": [
    "# 예측\n",
    "pred = model.predict(temp)\n",
    "pred = np.expm1(pred)\n",
    "temp['AMT'] = np.round(pred, 0)\n",
    "temp['REG_YYMM'] = temp['year']*100 + temp['month']\n",
    "temp = temp[['REG_YYMM', 'CARD_SIDO_NM', 'STD_CLSS_NM', 'AMT']]\n",
    "temp = temp.groupby(['REG_YYMM', 'CARD_SIDO_NM', 'STD_CLSS_NM']).sum().reset_index(drop=False)"
   ]
  },
  {
   "cell_type": "code",
   "execution_count": null,
   "metadata": {
    "colab": {},
    "colab_type": "code",
    "id": "Gj6iNo8_C4zI"
   },
   "outputs": [],
   "source": [
    "# 디코딩 \n",
    "temp['CARD_SIDO_NM'] = encoders['CARD_SIDO_NM'].inverse_transform(temp['CARD_SIDO_NM'])\n",
    "temp['STD_CLSS_NM'] = encoders['STD_CLSS_NM'].inverse_transform(temp['STD_CLSS_NM'])"
   ]
  },
  {
   "cell_type": "code",
   "execution_count": null,
   "metadata": {
    "colab": {},
    "colab_type": "code",
    "id": "sKnC5wcxBWQm"
   },
   "outputs": [],
   "source": [
    "# 제출 파일 만들기\n",
    "submission = pd.read_csv('./submission.csv', index_col=0)\n",
    "submission = submission.drop(['AMT'], axis=1)\n",
    "submission = submission.merge(temp, left_on=['REG_YYMM', 'CARD_SIDO_NM', 'STD_CLSS_NM'], right_on=['REG_YYMM', 'CARD_SIDO_NM', 'STD_CLSS_NM'], how='left')\n",
    "submission.index.name = 'id'\n",
    "submission.to_csv('submission.csv', encoding='utf-8-sig')\n",
    "submission.head()"
   ]
  }
 ],
 "metadata": {
  "accelerator": "GPU",
  "colab": {
   "collapsed_sections": [],
   "name": "코로나 데이터 전처리, 베이스라인 모델",
   "private_outputs": true,
   "provenance": []
  },
  "kernelspec": {
   "display_name": "Python 3",
   "language": "python",
   "name": "python3"
  },
  "language_info": {
   "codemirror_mode": {
    "name": "ipython",
    "version": 3
   },
   "file_extension": ".py",
   "mimetype": "text/x-python",
   "name": "python",
   "nbconvert_exporter": "python",
   "pygments_lexer": "ipython3",
   "version": "3.7.6"
  }
 },
 "nbformat": 4,
 "nbformat_minor": 1
}

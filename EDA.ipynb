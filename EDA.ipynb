{
 "cells": [
  {
   "cell_type": "code",
   "execution_count": 3,
   "metadata": {},
   "outputs": [],
   "source": [
    "import pandas as pd\n",
    "import numpy as np\n",
    "import matplotlib.pyplot as plt\n",
    "import seaborn as sns\n",
    "%matplotlib inline\n",
    "\n",
    "# 한글 폰트 오류 해결\n",
    "from matplotlib import font_manager, rc \n",
    "font_path = \"C:\\\\Users\\\\이혜림\\\\Desktop\\\\Bita5/malgun.ttf\" #폰트 파일의 위치\n",
    "font_name = font_manager.FontProperties(fname=font_path).get_name()\n",
    "rc(\"font\",family=font_name)"
   ]
  },
  {
   "cell_type": "code",
   "execution_count": 4,
   "metadata": {},
   "outputs": [],
   "source": [
    "# 데이터 불러오기\n",
    "# 201903-202003 데이터\n",
    "data = pd.read_csv(\"./jeju_data_201901-202003/201901-202003.csv\")\n",
    "result = pd.read_csv(\"./jeju_data_201901-202003/submission.csv\")"
   ]
  },
  {
   "cell_type": "markdown",
   "metadata": {},
   "source": [
    "## meta data\n",
    "### Features\n",
    "- REG_YYMM : 년월\n",
    "- CARD_SIDO_NM : 카드이용지역_시도 (가맹점 주소 기준)\n",
    "- CARD_CCG_NM : 카드이용지역_시군구 (가맹점 주소 기준)\n",
    "- STD_CLSS_NM : 업종명\n",
    "- HOM_SIDO_NM : 거주지역_시도 (고객 집주소 기준)\n",
    "- HOM_CCG_NM : 거주지역_시군구 (고객 집주소 기준)\n",
    "- AGE : 연령대\n",
    "- SEX_CTGO_CD : 성별 (1: 남성, 2: 여성)\n",
    "- FLC : 가구생애주기 (1: 1인가구, 2: 영유아자녀가구, 3: 중고생자녀가구, 4: 성인자녀가구, 5: 노년가구)\n",
    "- CSTMR_CNT : 이용고객수 (명)\n",
    "- AMT : 이용금액 (원)\n",
    "- CNT : 이용건수 (건)\n",
    "\n",
    "### submission\n",
    "- REG_YYMM : 년월\n",
    "- CARD_SIDO_NM : 카드이용지역_시도 (가맹점 주소 기준)\n",
    "- STD_CLSS_NM : 업종명\n",
    "- AMT : 이용금액 (원)"
   ]
  },
  {
   "cell_type": "code",
   "execution_count": 166,
   "metadata": {},
   "outputs": [
    {
     "data": {
      "text/html": [
       "<div>\n",
       "<style scoped>\n",
       "    .dataframe tbody tr th:only-of-type {\n",
       "        vertical-align: middle;\n",
       "    }\n",
       "\n",
       "    .dataframe tbody tr th {\n",
       "        vertical-align: top;\n",
       "    }\n",
       "\n",
       "    .dataframe thead th {\n",
       "        text-align: right;\n",
       "    }\n",
       "</style>\n",
       "<table border=\"1\" class=\"dataframe\">\n",
       "  <thead>\n",
       "    <tr style=\"text-align: right;\">\n",
       "      <th></th>\n",
       "      <th>REG_YYMM</th>\n",
       "      <th>CARD_SIDO_NM</th>\n",
       "      <th>CARD_CCG_NM</th>\n",
       "      <th>STD_CLSS_NM</th>\n",
       "      <th>HOM_SIDO_NM</th>\n",
       "      <th>HOM_CCG_NM</th>\n",
       "      <th>AGE</th>\n",
       "      <th>SEX_CTGO_CD</th>\n",
       "      <th>FLC</th>\n",
       "      <th>CSTMR_CNT</th>\n",
       "      <th>AMT</th>\n",
       "      <th>CNT</th>\n",
       "    </tr>\n",
       "  </thead>\n",
       "  <tbody>\n",
       "    <tr>\n",
       "      <th>0</th>\n",
       "      <td>201901</td>\n",
       "      <td>강원</td>\n",
       "      <td>강릉시</td>\n",
       "      <td>건강보조식품 소매업</td>\n",
       "      <td>강원</td>\n",
       "      <td>강릉시</td>\n",
       "      <td>20s</td>\n",
       "      <td>1</td>\n",
       "      <td>1</td>\n",
       "      <td>4</td>\n",
       "      <td>311200</td>\n",
       "      <td>4</td>\n",
       "    </tr>\n",
       "    <tr>\n",
       "      <th>1</th>\n",
       "      <td>201901</td>\n",
       "      <td>강원</td>\n",
       "      <td>강릉시</td>\n",
       "      <td>건강보조식품 소매업</td>\n",
       "      <td>강원</td>\n",
       "      <td>강릉시</td>\n",
       "      <td>30s</td>\n",
       "      <td>1</td>\n",
       "      <td>2</td>\n",
       "      <td>7</td>\n",
       "      <td>1374500</td>\n",
       "      <td>8</td>\n",
       "    </tr>\n",
       "    <tr>\n",
       "      <th>2</th>\n",
       "      <td>201901</td>\n",
       "      <td>강원</td>\n",
       "      <td>강릉시</td>\n",
       "      <td>건강보조식품 소매업</td>\n",
       "      <td>강원</td>\n",
       "      <td>강릉시</td>\n",
       "      <td>30s</td>\n",
       "      <td>2</td>\n",
       "      <td>2</td>\n",
       "      <td>6</td>\n",
       "      <td>818700</td>\n",
       "      <td>6</td>\n",
       "    </tr>\n",
       "    <tr>\n",
       "      <th>3</th>\n",
       "      <td>201901</td>\n",
       "      <td>강원</td>\n",
       "      <td>강릉시</td>\n",
       "      <td>건강보조식품 소매업</td>\n",
       "      <td>강원</td>\n",
       "      <td>강릉시</td>\n",
       "      <td>40s</td>\n",
       "      <td>1</td>\n",
       "      <td>3</td>\n",
       "      <td>4</td>\n",
       "      <td>1717000</td>\n",
       "      <td>5</td>\n",
       "    </tr>\n",
       "    <tr>\n",
       "      <th>4</th>\n",
       "      <td>201901</td>\n",
       "      <td>강원</td>\n",
       "      <td>강릉시</td>\n",
       "      <td>건강보조식품 소매업</td>\n",
       "      <td>강원</td>\n",
       "      <td>강릉시</td>\n",
       "      <td>40s</td>\n",
       "      <td>1</td>\n",
       "      <td>4</td>\n",
       "      <td>3</td>\n",
       "      <td>1047300</td>\n",
       "      <td>3</td>\n",
       "    </tr>\n",
       "    <tr>\n",
       "      <th>...</th>\n",
       "      <td>...</td>\n",
       "      <td>...</td>\n",
       "      <td>...</td>\n",
       "      <td>...</td>\n",
       "      <td>...</td>\n",
       "      <td>...</td>\n",
       "      <td>...</td>\n",
       "      <td>...</td>\n",
       "      <td>...</td>\n",
       "      <td>...</td>\n",
       "      <td>...</td>\n",
       "      <td>...</td>\n",
       "    </tr>\n",
       "    <tr>\n",
       "      <th>24697787</th>\n",
       "      <td>202003</td>\n",
       "      <td>충북</td>\n",
       "      <td>충주시</td>\n",
       "      <td>휴양콘도 운영업</td>\n",
       "      <td>충북</td>\n",
       "      <td>충주시</td>\n",
       "      <td>30s</td>\n",
       "      <td>1</td>\n",
       "      <td>2</td>\n",
       "      <td>3</td>\n",
       "      <td>43300</td>\n",
       "      <td>4</td>\n",
       "    </tr>\n",
       "    <tr>\n",
       "      <th>24697788</th>\n",
       "      <td>202003</td>\n",
       "      <td>충북</td>\n",
       "      <td>충주시</td>\n",
       "      <td>휴양콘도 운영업</td>\n",
       "      <td>충북</td>\n",
       "      <td>충주시</td>\n",
       "      <td>40s</td>\n",
       "      <td>1</td>\n",
       "      <td>3</td>\n",
       "      <td>3</td>\n",
       "      <td>35000</td>\n",
       "      <td>3</td>\n",
       "    </tr>\n",
       "    <tr>\n",
       "      <th>24697789</th>\n",
       "      <td>202003</td>\n",
       "      <td>충북</td>\n",
       "      <td>충주시</td>\n",
       "      <td>휴양콘도 운영업</td>\n",
       "      <td>충북</td>\n",
       "      <td>충주시</td>\n",
       "      <td>50s</td>\n",
       "      <td>1</td>\n",
       "      <td>4</td>\n",
       "      <td>4</td>\n",
       "      <td>188000</td>\n",
       "      <td>6</td>\n",
       "    </tr>\n",
       "    <tr>\n",
       "      <th>24697790</th>\n",
       "      <td>202003</td>\n",
       "      <td>충북</td>\n",
       "      <td>충주시</td>\n",
       "      <td>휴양콘도 운영업</td>\n",
       "      <td>충북</td>\n",
       "      <td>충주시</td>\n",
       "      <td>50s</td>\n",
       "      <td>2</td>\n",
       "      <td>4</td>\n",
       "      <td>4</td>\n",
       "      <td>99000</td>\n",
       "      <td>6</td>\n",
       "    </tr>\n",
       "    <tr>\n",
       "      <th>24697791</th>\n",
       "      <td>202003</td>\n",
       "      <td>충북</td>\n",
       "      <td>충주시</td>\n",
       "      <td>휴양콘도 운영업</td>\n",
       "      <td>충북</td>\n",
       "      <td>충주시</td>\n",
       "      <td>60s</td>\n",
       "      <td>1</td>\n",
       "      <td>5</td>\n",
       "      <td>3</td>\n",
       "      <td>194000</td>\n",
       "      <td>3</td>\n",
       "    </tr>\n",
       "  </tbody>\n",
       "</table>\n",
       "<p>24697792 rows × 12 columns</p>\n",
       "</div>"
      ],
      "text/plain": [
       "          REG_YYMM CARD_SIDO_NM CARD_CCG_NM STD_CLSS_NM HOM_SIDO_NM  \\\n",
       "0           201901           강원         강릉시  건강보조식품 소매업          강원   \n",
       "1           201901           강원         강릉시  건강보조식품 소매업          강원   \n",
       "2           201901           강원         강릉시  건강보조식품 소매업          강원   \n",
       "3           201901           강원         강릉시  건강보조식품 소매업          강원   \n",
       "4           201901           강원         강릉시  건강보조식품 소매업          강원   \n",
       "...            ...          ...         ...         ...         ...   \n",
       "24697787    202003           충북         충주시    휴양콘도 운영업          충북   \n",
       "24697788    202003           충북         충주시    휴양콘도 운영업          충북   \n",
       "24697789    202003           충북         충주시    휴양콘도 운영업          충북   \n",
       "24697790    202003           충북         충주시    휴양콘도 운영업          충북   \n",
       "24697791    202003           충북         충주시    휴양콘도 운영업          충북   \n",
       "\n",
       "         HOM_CCG_NM  AGE  SEX_CTGO_CD  FLC  CSTMR_CNT      AMT  CNT  \n",
       "0               강릉시  20s            1    1          4   311200    4  \n",
       "1               강릉시  30s            1    2          7  1374500    8  \n",
       "2               강릉시  30s            2    2          6   818700    6  \n",
       "3               강릉시  40s            1    3          4  1717000    5  \n",
       "4               강릉시  40s            1    4          3  1047300    3  \n",
       "...             ...  ...          ...  ...        ...      ...  ...  \n",
       "24697787        충주시  30s            1    2          3    43300    4  \n",
       "24697788        충주시  40s            1    3          3    35000    3  \n",
       "24697789        충주시  50s            1    4          4   188000    6  \n",
       "24697790        충주시  50s            2    4          4    99000    6  \n",
       "24697791        충주시  60s            1    5          3   194000    3  \n",
       "\n",
       "[24697792 rows x 12 columns]"
      ]
     },
     "execution_count": 166,
     "metadata": {},
     "output_type": "execute_result"
    }
   ],
   "source": [
    "data"
   ]
  },
  {
   "cell_type": "code",
   "execution_count": 42,
   "metadata": {},
   "outputs": [],
   "source": [
    "# 월별 총 카드 이용금액\n",
    "# 월별, 시/도별, 업종별 amt\n",
    "amt = data.groupby([\"REG_YYMM\",\"CARD_SIDO_NM\",\"STD_CLSS_NM\"])[\"AMT\"].sum()\n",
    "amt = pd.DataFrame(amt)\n",
    "# 월별 amt\n",
    "month_amt = data.groupby([\"REG_YYMM\"])[\"AMT\"].sum()\n",
    "month_amt = pd.DataFrame(month_amt.values, index= month_amt.index)\n",
    "# 시/도별 amt\n",
    "place_amt = data.groupby([\"CARD_SIDO_NM\"])[\"AMT\"].sum()\n",
    "place_amt = pd.DataFrame(place_amt.values, index= place_amt.index)\n",
    "# 업종별 amt\n",
    "type_amt = data.groupby([\"STD_CLSS_NM\"])[\"AMT\"].sum()\n",
    "type_amt = pd.DataFrame(type_amt.values, index= type_amt.index)"
   ]
  },
  {
   "cell_type": "code",
   "execution_count": 88,
   "metadata": {},
   "outputs": [],
   "source": [
    "# 각 데이터 담은 dictionary\n",
    "all_amt = {\"월별\":month_amt, \"시/도별\":place_amt, \"업종별\":type_amt}"
   ]
  },
  {
   "cell_type": "code",
   "execution_count": 275,
   "metadata": {},
   "outputs": [
    {
     "data": {
      "image/png": "[encoded data removed]",
      "text/plain": [
       "<Figure size 1152x288 with 3 Axes>"
      ]
     },
     "metadata": {
      "needs_background": "light"
     },
     "output_type": "display_data"
    }
   ],
   "source": [
    "plt.figure(figsize = (16,4))\n",
    "for idx, d in enumerate(all_amt.items()):\n",
    "    title, d = d\n",
    "    plt.subplot(1,3,idx+1)\n",
    "    sns.barplot(x=d.index, y = d[0])\n",
    "    plt.xticks(size=10,rotation=90)\n",
    "    plt.title(title)"
   ]
  },
  {
   "cell_type": "markdown",
   "metadata": {},
   "source": [
    "## 시도별 월별 매출"
   ]
  },
  {
   "cell_type": "code",
   "execution_count": 105,
   "metadata": {},
   "outputs": [],
   "source": [
    "place_month_amt = pd.DataFrame(data.groupby([\"REG_YYMM\",\"CARD_SIDO_NM\"])[\"AMT\"].sum())"
   ]
  },
  {
   "cell_type": "code",
   "execution_count": 138,
   "metadata": {},
   "outputs": [],
   "source": [
    "# unique 한 값 추출\n",
    "places = data[\"CARD_SIDO_NM\"].unique()\n",
    "months = data[\"REG_YYMM\"].unique()"
   ]
  },
  {
   "cell_type": "code",
   "execution_count": 139,
   "metadata": {},
   "outputs": [],
   "source": [
    "# 월, 장소 추가\n",
    "place_month_amt[\"place\"]=list(places)*(255//len(places))\n",
    "place_month_amt[\"month\"]=list(months)*(255//len(months))\n",
    "\n",
    "# index 초기화\n",
    "place_month_amt.index = range(255)"
   ]
  },
  {
   "cell_type": "code",
   "execution_count": 165,
   "metadata": {},
   "outputs": [
    {
     "data": {
      "text/plain": [
       "<Figure size 720x7200 with 0 Axes>"
      ]
     },
     "metadata": {},
     "output_type": "display_data"
    },
    {
     "data": {
      "image/png": "[encoded data removed]",
      "text/plain": [
       "<Figure size 720x7200 with 1 Axes>"
      ]
     },
     "metadata": {
      "needs_background": "light"
     },
     "output_type": "display_data"
    },
    {
     "data": {
      "image/png": "[encoded data removed]",
      "text/plain": [
       "<Figure size 720x7200 with 1 Axes>"
      ]
     },
     "metadata": {
      "needs_background": "light"
     },
     "output_type": "display_data"
    },
    {
     "data": {
      "image/png": "[encoded data removed]",
      "text/plain": [
       "<Figure size 720x7200 with 1 Axes>"
      ]
     },
     "metadata": {
      "needs_background": "light"
     },
     "output_type": "display_data"
    },
    {
     "data": {
      "image/png": "[encoded data removed]",
      "text/plain": [
       "<Figure size 720x7200 with 1 Axes>"
      ]
     },
     "metadata": {
      "needs_background": "light"
     },
     "output_type": "display_data"
    },
    {
     "data": {
      "image/png": "[encoded data removed]",
      "text/plain": [
       "<Figure size 720x7200 with 1 Axes>"
      ]
     },
     "metadata": {
      "needs_background": "light"
     },
     "output_type": "display_data"
    },
    {
     "data": {
      "image/png": "[encoded data removed]",
      "text/plain": [
       "<Figure size 720x7200 with 1 Axes>"
      ]
     },
     "metadata": {
      "needs_background": "light"
     },
     "output_type": "display_data"
    },
    {
     "data": {
      "image/png": "[encoded data removed]",
      "text/plain": [
       "<Figure size 720x7200 with 1 Axes>"
      ]
     },
     "metadata": {
      "needs_background": "light"
     },
     "output_type": "display_data"
    },
    {
     "data": {
      "image/png": "[encoded data removed]",
      "text/plain": [
       "<Figure size 720x7200 with 1 Axes>"
      ]
     },
     "metadata": {
      "needs_background": "light"
     },
     "output_type": "display_data"
    },
    {
     "data": {
      "image/png": "[encoded data removed]",
      "text/plain": [
       "<Figure size 720x7200 with 1 Axes>"
      ]
     },
     "metadata": {
      "needs_background": "light"
     },
     "output_type": "display_data"
    },
    {
     "data": {
      "image/png": "[encoded data removed]",
      "text/plain": [
       "<Figure size 720x7200 with 1 Axes>"
      ]
     },
     "metadata": {
      "needs_background": "light"
     },
     "output_type": "display_data"
    },
    {
     "data": {
      "image/png": "[encoded data removed]",
      "text/plain": [
       "<Figure size 720x7200 with 1 Axes>"
      ]
     },
     "metadata": {
      "needs_background": "light"
     },
     "output_type": "display_data"
    },
    {
     "data": {
      "image/png": "[encoded data removed]",
      "text/plain": [
       "<Figure size 720x7200 with 1 Axes>"
      ]
     },
     "metadata": {
      "needs_background": "light"
     },
     "output_type": "display_data"
    },
    {
     "data": {
      "image/png": "[encoded data removed]",
      "text/plain": [
       "<Figure size 720x7200 with 1 Axes>"
      ]
     },
     "metadata": {
      "needs_background": "light"
     },
     "output_type": "display_data"
    },
    {
     "data": {
      "image/png": "[encoded data removed]",
      "text/plain": [
       "<Figure size 720x7200 with 1 Axes>"
      ]
     },
     "metadata": {
      "needs_background": "light"
     },
     "output_type": "display_data"
    },
    {
     "data": {
      "image/png": "[encoded data removed]",
      "text/plain": [
       "<Figure size 720x7200 with 1 Axes>"
      ]
     },
     "metadata": {
      "needs_background": "light"
     },
     "output_type": "display_data"
    },
    {
     "data": {
      "image/png": "[encoded data removed]",
      "text/plain": [
       "<Figure size 720x7200 with 1 Axes>"
      ]
     },
     "metadata": {
      "needs_background": "light"
     },
     "output_type": "display_data"
    },
    {
     "data": {
      "image/png": "[encoded data removed]",
      "text/plain": [
       "<Figure size 720x7200 with 1 Axes>"
      ]
     },
     "metadata": {
      "needs_background": "light"
     },
     "output_type": "display_data"
    }
   ],
   "source": [
    "plt.figure(figsize = (10,100))\n",
    "places.sort()\n",
    "for i in range(len(places)):\n",
    "    plt.figure(figsize = (10,100))\n",
    "    plt.subplot(len(places),1,i+1)\n",
    "    sub_data = place_month_amt.sort_values(by=[\"place\"])[i:i+15]\n",
    "    sns.barplot(x=\"month\", y= \"AMT\", data = sub_data)\n",
    "    plt.title(places[i])\n",
    "    plt.xticks(size=10,rotation=45)\n",
    "    plt.show()"
   ]
  },
  {
   "cell_type": "markdown",
   "metadata": {},
   "source": [
    "## 거주지 소비 or 외적 소비\n",
    "- 지역별 거주지 소비와 외적 소비의 비율 확인"
   ]
  },
  {
   "cell_type": "code",
   "execution_count": 228,
   "metadata": {},
   "outputs": [],
   "source": [
    "# 거주지 소비와 외적 소비 나눔\n",
    "bool_data = data[\"CARD_SIDO_NM\"]==data[\"HOM_SIDO_NM\"]\n",
    "home = data[bool_data]\n",
    "out = data[~bool_data]\n",
    "\n",
    "# 지역별로 거주지 소비와 외적 소비 사용금액 확인\n",
    "home_amt = home.groupby([\"CARD_SIDO_NM\"])[\"AMT\"].sum()\n",
    "out_amt = out.groupby([\"CARD_SIDO_NM\"])[\"AMT\"].sum()\n",
    "\n",
    "# 데이터 프레임 생성\n",
    "total_home_out = pd.DataFrame(index=home_amt.index)\n",
    "total_home_out[\"home\"]=home_amt\n",
    "total_home_out[\"out\"]=out_amt\n",
    "total_home_out[\"out/total\"]=total_home_out[\"out\"]/(total_home_out[\"home\"]+total_home_out[\"out\"])"
   ]
  },
  {
   "cell_type": "code",
   "execution_count": 279,
   "metadata": {},
   "outputs": [
    {
     "data": {
      "text/html": [
       "<div>\n",
       "<style scoped>\n",
       "    .dataframe tbody tr th:only-of-type {\n",
       "        vertical-align: middle;\n",
       "    }\n",
       "\n",
       "    .dataframe tbody tr th {\n",
       "        vertical-align: top;\n",
       "    }\n",
       "\n",
       "    .dataframe thead th {\n",
       "        text-align: right;\n",
       "    }\n",
       "</style>\n",
       "<table border=\"1\" class=\"dataframe\">\n",
       "  <thead>\n",
       "    <tr style=\"text-align: right;\">\n",
       "      <th></th>\n",
       "      <th>home</th>\n",
       "      <th>out</th>\n",
       "      <th>out/total</th>\n",
       "    </tr>\n",
       "    <tr>\n",
       "      <th>CARD_SIDO_NM</th>\n",
       "      <th></th>\n",
       "      <th></th>\n",
       "      <th></th>\n",
       "    </tr>\n",
       "  </thead>\n",
       "  <tbody>\n",
       "    <tr>\n",
       "      <th>서울</th>\n",
       "      <td>10092021194371</td>\n",
       "      <td>4585109854660</td>\n",
       "      <td>0.312398</td>\n",
       "    </tr>\n",
       "    <tr>\n",
       "      <th>제주</th>\n",
       "      <td>1017397760074</td>\n",
       "      <td>326184464694</td>\n",
       "      <td>0.242772</td>\n",
       "    </tr>\n",
       "    <tr>\n",
       "      <th>강원</th>\n",
       "      <td>1204443934968</td>\n",
       "      <td>385167364951</td>\n",
       "      <td>0.242303</td>\n",
       "    </tr>\n",
       "    <tr>\n",
       "      <th>세종</th>\n",
       "      <td>156965899441</td>\n",
       "      <td>47079917907</td>\n",
       "      <td>0.230732</td>\n",
       "    </tr>\n",
       "    <tr>\n",
       "      <th>인천</th>\n",
       "      <td>2374676626919</td>\n",
       "      <td>681570835994</td>\n",
       "      <td>0.223009</td>\n",
       "    </tr>\n",
       "    <tr>\n",
       "      <th>경북</th>\n",
       "      <td>2234756004003</td>\n",
       "      <td>532864591245</td>\n",
       "      <td>0.192535</td>\n",
       "    </tr>\n",
       "    <tr>\n",
       "      <th>충남</th>\n",
       "      <td>1719294865555</td>\n",
       "      <td>383902509553</td>\n",
       "      <td>0.182533</td>\n",
       "    </tr>\n",
       "    <tr>\n",
       "      <th>전남</th>\n",
       "      <td>1556688799700</td>\n",
       "      <td>283071977439</td>\n",
       "      <td>0.153863</td>\n",
       "    </tr>\n",
       "    <tr>\n",
       "      <th>충북</th>\n",
       "      <td>1245478356168</td>\n",
       "      <td>219958829755</td>\n",
       "      <td>0.150098</td>\n",
       "    </tr>\n",
       "    <tr>\n",
       "      <th>부산</th>\n",
       "      <td>3821544401090</td>\n",
       "      <td>669761630451</td>\n",
       "      <td>0.149124</td>\n",
       "    </tr>\n",
       "    <tr>\n",
       "      <th>경기</th>\n",
       "      <td>12202350438264</td>\n",
       "      <td>1999534796605</td>\n",
       "      <td>0.140794</td>\n",
       "    </tr>\n",
       "    <tr>\n",
       "      <th>대전</th>\n",
       "      <td>986590235182</td>\n",
       "      <td>142323225534</td>\n",
       "      <td>0.126071</td>\n",
       "    </tr>\n",
       "    <tr>\n",
       "      <th>경남</th>\n",
       "      <td>3108803198778</td>\n",
       "      <td>376326831086</td>\n",
       "      <td>0.107981</td>\n",
       "    </tr>\n",
       "    <tr>\n",
       "      <th>울산</th>\n",
       "      <td>1138595760471</td>\n",
       "      <td>116617845269</td>\n",
       "      <td>0.092907</td>\n",
       "    </tr>\n",
       "    <tr>\n",
       "      <th>전북</th>\n",
       "      <td>1797022483446</td>\n",
       "      <td>164207701895</td>\n",
       "      <td>0.083727</td>\n",
       "    </tr>\n",
       "    <tr>\n",
       "      <th>광주</th>\n",
       "      <td>1582501232195</td>\n",
       "      <td>123149128739</td>\n",
       "      <td>0.072201</td>\n",
       "    </tr>\n",
       "    <tr>\n",
       "      <th>대구</th>\n",
       "      <td>2810736165542</td>\n",
       "      <td>209328187062</td>\n",
       "      <td>0.069312</td>\n",
       "    </tr>\n",
       "  </tbody>\n",
       "</table>\n",
       "</div>"
      ],
      "text/plain": [
       "                        home            out  out/total\n",
       "CARD_SIDO_NM                                          \n",
       "서울            10092021194371  4585109854660   0.312398\n",
       "제주             1017397760074   326184464694   0.242772\n",
       "강원             1204443934968   385167364951   0.242303\n",
       "세종              156965899441    47079917907   0.230732\n",
       "인천             2374676626919   681570835994   0.223009\n",
       "경북             2234756004003   532864591245   0.192535\n",
       "충남             1719294865555   383902509553   0.182533\n",
       "전남             1556688799700   283071977439   0.153863\n",
       "충북             1245478356168   219958829755   0.150098\n",
       "부산             3821544401090   669761630451   0.149124\n",
       "경기            12202350438264  1999534796605   0.140794\n",
       "대전              986590235182   142323225534   0.126071\n",
       "경남             3108803198778   376326831086   0.107981\n",
       "울산             1138595760471   116617845269   0.092907\n",
       "전북             1797022483446   164207701895   0.083727\n",
       "광주             1582501232195   123149128739   0.072201\n",
       "대구             2810736165542   209328187062   0.069312"
      ]
     },
     "execution_count": 279,
     "metadata": {},
     "output_type": "execute_result"
    }
   ],
   "source": [
    "total_home_out.sort_values(by=[\"out/total\"], ascending=False)"
   ]
  },
  {
   "cell_type": "code",
   "execution_count": 196,
   "metadata": {},
   "outputs": [
    {
     "name": "stderr",
     "output_type": "stream",
     "text": [
      "No handles with labels found to put in legend.\n"
     ]
    },
    {
     "data": {
      "text/plain": [
       "<matplotlib.legend.Legend at 0x25c24243748>"
      ]
     },
     "execution_count": 196,
     "metadata": {},
     "output_type": "execute_result"
    },
    {
     "data": {
      "image/png": "[encoded data removed]",
      "text/plain": [
       "<Figure size 432x288 with 1 Axes>"
      ]
     },
     "metadata": {
      "needs_background": "light"
     },
     "output_type": "display_data"
    }
   ],
   "source": [
    "# 시각화\n",
    "plt.plot(home_out)\n",
    "plt.show()"
   ]
  },
  {
   "cell_type": "markdown",
   "metadata": {},
   "source": [
    "## 거주지 소비, 외적 소비에서의 코로나 영향 확인\n",
    "- 201902,201903와 202002, 202003의 데이터 비교를 통해 거주지 소비와 외적소비가 각각 얼마나 코로나의 영향을 받는지 확인\n",
    "\n",
    "--------------------------------------------------\n",
    "- 뚜렷하게 외적 소비가 거주지 소비보다 코로나의 영향으로 더 많은 사용금액 감소가 나타남"
   ]
  },
  {
   "cell_type": "code",
   "execution_count": 229,
   "metadata": {},
   "outputs": [],
   "source": [
    "#201902,201903을 코로나 전으로, 202002,202003을 코로나 후로 하여 데이터 분리\n",
    "before_home_amt = home.loc[:22098304,:]\n",
    "after_home_amt = home.loc[22098304:,:]\n",
    "\n",
    "before_out_amt = out.loc[:22098322,:]\n",
    "after_out_amt = out.loc[22098322:,:]\n",
    "\n",
    "before_home_amt = before_home_amt.loc[(before_home_amt[\"REG_YYMM\"]==201902) | (before_home_amt[\"REG_YYMM\"]==201903),:]\n",
    "before_out_amt = before_out_amt.loc[(before_out_amt[\"REG_YYMM\"]==201902) | (before_out_amt[\"REG_YYMM\"]==201903),:]\n",
    "\n",
    "# 지역별로 데이터를 나눈 후 사용 금액 합산\n",
    "before_home_amt = before_home_amt.groupby([\"CARD_SIDO_NM\"])[\"AMT\"].sum()\n",
    "before_out_amt = before_out_amt.groupby([\"CARD_SIDO_NM\"])[\"AMT\"].sum()\n",
    "\n",
    "after_home_amt = after_home_amt.groupby([\"CARD_SIDO_NM\"])[\"AMT\"].sum()\n",
    "after_out_amt = after_out_amt.groupby([\"CARD_SIDO_NM\"])[\"AMT\"].sum()\n",
    "\n",
    "# 각 데이터를 하나의 데이터 프레임으로 합침\n",
    "before_home_out = pd.DataFrame(index=home_amt.index)\n",
    "after_home_out = pd.DataFrame(index=home_amt.index)\n",
    "\n",
    "before_home_out[\"home\"]=before_home_amt\n",
    "before_home_out[\"out\"]=before_out_amt\n",
    "\n",
    "after_home_out[\"home\"]=after_home_amt\n",
    "after_home_out[\"out\"]=after_out_amt\n",
    "\n",
    "home_out = before_home_out.merge(after_home_out, on=before_home_out.index)\n",
    "home_out.columns = [\"places\",\"before_home\",\"before_out\",\"after_home\",\"after_out\"]"
   ]
  },
  {
   "cell_type": "code",
   "execution_count": 230,
   "metadata": {},
   "outputs": [],
   "source": [
    "# 코로나 전과 후의 거주지 소비, 외적 소비 증감율 칼럼 추가\n",
    "home_out[\"home_difference\"]=(home_out[\"after_home\"]-home_out[\"before_home\"])/home_out[\"before_home\"]\n",
    "home_out[\"out_difference\"] =(home_out[\"after_out\"]-home_out[\"before_out\"])/home_out[\"before_out\"]\n",
    "\n",
    "home_out.index = home_out[\"places\"]\n",
    "home_out = home_out.drop([\"places\"],axis=1)"
   ]
  },
  {
   "cell_type": "code",
   "execution_count": 231,
   "metadata": {},
   "outputs": [
    {
     "data": {
      "text/html": [
       "<div>\n",
       "<style scoped>\n",
       "    .dataframe tbody tr th:only-of-type {\n",
       "        vertical-align: middle;\n",
       "    }\n",
       "\n",
       "    .dataframe tbody tr th {\n",
       "        vertical-align: top;\n",
       "    }\n",
       "\n",
       "    .dataframe thead th {\n",
       "        text-align: right;\n",
       "    }\n",
       "</style>\n",
       "<table border=\"1\" class=\"dataframe\">\n",
       "  <thead>\n",
       "    <tr style=\"text-align: right;\">\n",
       "      <th></th>\n",
       "      <th>before_home</th>\n",
       "      <th>before_out</th>\n",
       "      <th>after_home</th>\n",
       "      <th>after_out</th>\n",
       "      <th>home_difference</th>\n",
       "      <th>out_difference</th>\n",
       "    </tr>\n",
       "    <tr>\n",
       "      <th>places</th>\n",
       "      <th></th>\n",
       "      <th></th>\n",
       "      <th></th>\n",
       "      <th></th>\n",
       "      <th></th>\n",
       "      <th></th>\n",
       "    </tr>\n",
       "  </thead>\n",
       "  <tbody>\n",
       "    <tr>\n",
       "      <th>제주</th>\n",
       "      <td>130397132427</td>\n",
       "      <td>41028539578</td>\n",
       "      <td>123217376587</td>\n",
       "      <td>17424614351</td>\n",
       "      <td>-0.055061</td>\n",
       "      <td>-0.575305</td>\n",
       "    </tr>\n",
       "    <tr>\n",
       "      <th>대구</th>\n",
       "      <td>366697575870</td>\n",
       "      <td>29658962640</td>\n",
       "      <td>307663804255</td>\n",
       "      <td>14985600233</td>\n",
       "      <td>-0.160988</td>\n",
       "      <td>-0.494736</td>\n",
       "    </tr>\n",
       "    <tr>\n",
       "      <th>전북</th>\n",
       "      <td>226970133302</td>\n",
       "      <td>21766537103</td>\n",
       "      <td>214143115402</td>\n",
       "      <td>11520758479</td>\n",
       "      <td>-0.056514</td>\n",
       "      <td>-0.470712</td>\n",
       "    </tr>\n",
       "    <tr>\n",
       "      <th>인천</th>\n",
       "      <td>326612049206</td>\n",
       "      <td>92332784266</td>\n",
       "      <td>278965573472</td>\n",
       "      <td>55025487561</td>\n",
       "      <td>-0.145881</td>\n",
       "      <td>-0.404053</td>\n",
       "    </tr>\n",
       "    <tr>\n",
       "      <th>부산</th>\n",
       "      <td>503459827325</td>\n",
       "      <td>95080003843</td>\n",
       "      <td>423049940995</td>\n",
       "      <td>62313336429</td>\n",
       "      <td>-0.159715</td>\n",
       "      <td>-0.344622</td>\n",
       "    </tr>\n",
       "    <tr>\n",
       "      <th>대전</th>\n",
       "      <td>126744406012</td>\n",
       "      <td>19614672175</td>\n",
       "      <td>117853727750</td>\n",
       "      <td>12884210057</td>\n",
       "      <td>-0.070147</td>\n",
       "      <td>-0.343134</td>\n",
       "    </tr>\n",
       "    <tr>\n",
       "      <th>광주</th>\n",
       "      <td>200640690764</td>\n",
       "      <td>16836369074</td>\n",
       "      <td>195785256614</td>\n",
       "      <td>11420038884</td>\n",
       "      <td>-0.024200</td>\n",
       "      <td>-0.321704</td>\n",
       "    </tr>\n",
       "    <tr>\n",
       "      <th>강원</th>\n",
       "      <td>150276069697</td>\n",
       "      <td>43465120261</td>\n",
       "      <td>142959054484</td>\n",
       "      <td>30235535616</td>\n",
       "      <td>-0.048690</td>\n",
       "      <td>-0.304372</td>\n",
       "    </tr>\n",
       "    <tr>\n",
       "      <th>경북</th>\n",
       "      <td>285240802642</td>\n",
       "      <td>67190177470</td>\n",
       "      <td>255253759028</td>\n",
       "      <td>48308710766</td>\n",
       "      <td>-0.105129</td>\n",
       "      <td>-0.281015</td>\n",
       "    </tr>\n",
       "    <tr>\n",
       "      <th>충남</th>\n",
       "      <td>217886971344</td>\n",
       "      <td>47262217831</td>\n",
       "      <td>206046678528</td>\n",
       "      <td>34593928208</td>\n",
       "      <td>-0.054341</td>\n",
       "      <td>-0.268043</td>\n",
       "    </tr>\n",
       "    <tr>\n",
       "      <th>서울</th>\n",
       "      <td>1295460057245</td>\n",
       "      <td>604329891406</td>\n",
       "      <td>1150914544473</td>\n",
       "      <td>449294866510</td>\n",
       "      <td>-0.111579</td>\n",
       "      <td>-0.256540</td>\n",
       "    </tr>\n",
       "    <tr>\n",
       "      <th>충북</th>\n",
       "      <td>156372407101</td>\n",
       "      <td>25297656335</td>\n",
       "      <td>150492268275</td>\n",
       "      <td>20349698688</td>\n",
       "      <td>-0.037603</td>\n",
       "      <td>-0.195590</td>\n",
       "    </tr>\n",
       "    <tr>\n",
       "      <th>울산</th>\n",
       "      <td>148076224722</td>\n",
       "      <td>14691813544</td>\n",
       "      <td>132496135587</td>\n",
       "      <td>12221971229</td>\n",
       "      <td>-0.105217</td>\n",
       "      <td>-0.168110</td>\n",
       "    </tr>\n",
       "    <tr>\n",
       "      <th>경남</th>\n",
       "      <td>398747670549</td>\n",
       "      <td>46824187124</td>\n",
       "      <td>373269174671</td>\n",
       "      <td>39586918726</td>\n",
       "      <td>-0.063896</td>\n",
       "      <td>-0.154563</td>\n",
       "    </tr>\n",
       "    <tr>\n",
       "      <th>세종</th>\n",
       "      <td>19266727551</td>\n",
       "      <td>5804039506</td>\n",
       "      <td>19736278417</td>\n",
       "      <td>5127581236</td>\n",
       "      <td>0.024371</td>\n",
       "      <td>-0.116550</td>\n",
       "    </tr>\n",
       "    <tr>\n",
       "      <th>전남</th>\n",
       "      <td>193916749813</td>\n",
       "      <td>33693083153</td>\n",
       "      <td>190567189955</td>\n",
       "      <td>30073002821</td>\n",
       "      <td>-0.017273</td>\n",
       "      <td>-0.107443</td>\n",
       "    </tr>\n",
       "    <tr>\n",
       "      <th>경기</th>\n",
       "      <td>1550442800689</td>\n",
       "      <td>237671240319</td>\n",
       "      <td>1457438621457</td>\n",
       "      <td>213360611889</td>\n",
       "      <td>-0.059986</td>\n",
       "      <td>-0.102287</td>\n",
       "    </tr>\n",
       "  </tbody>\n",
       "</table>\n",
       "</div>"
      ],
      "text/plain": [
       "          before_home    before_out     after_home     after_out  \\\n",
       "places                                                             \n",
       "제주       130397132427   41028539578   123217376587   17424614351   \n",
       "대구       366697575870   29658962640   307663804255   14985600233   \n",
       "전북       226970133302   21766537103   214143115402   11520758479   \n",
       "인천       326612049206   92332784266   278965573472   55025487561   \n",
       "부산       503459827325   95080003843   423049940995   62313336429   \n",
       "대전       126744406012   19614672175   117853727750   12884210057   \n",
       "광주       200640690764   16836369074   195785256614   11420038884   \n",
       "강원       150276069697   43465120261   142959054484   30235535616   \n",
       "경북       285240802642   67190177470   255253759028   48308710766   \n",
       "충남       217886971344   47262217831   206046678528   34593928208   \n",
       "서울      1295460057245  604329891406  1150914544473  449294866510   \n",
       "충북       156372407101   25297656335   150492268275   20349698688   \n",
       "울산       148076224722   14691813544   132496135587   12221971229   \n",
       "경남       398747670549   46824187124   373269174671   39586918726   \n",
       "세종        19266727551    5804039506    19736278417    5127581236   \n",
       "전남       193916749813   33693083153   190567189955   30073002821   \n",
       "경기      1550442800689  237671240319  1457438621457  213360611889   \n",
       "\n",
       "        home_difference  out_difference  \n",
       "places                                   \n",
       "제주            -0.055061       -0.575305  \n",
       "대구            -0.160988       -0.494736  \n",
       "전북            -0.056514       -0.470712  \n",
       "인천            -0.145881       -0.404053  \n",
       "부산            -0.159715       -0.344622  \n",
       "대전            -0.070147       -0.343134  \n",
       "광주            -0.024200       -0.321704  \n",
       "강원            -0.048690       -0.304372  \n",
       "경북            -0.105129       -0.281015  \n",
       "충남            -0.054341       -0.268043  \n",
       "서울            -0.111579       -0.256540  \n",
       "충북            -0.037603       -0.195590  \n",
       "울산            -0.105217       -0.168110  \n",
       "경남            -0.063896       -0.154563  \n",
       "세종             0.024371       -0.116550  \n",
       "전남            -0.017273       -0.107443  \n",
       "경기            -0.059986       -0.102287  "
      ]
     },
     "execution_count": 231,
     "metadata": {},
     "output_type": "execute_result"
    }
   ],
   "source": [
    "home_out.sort_values(by=\"out_difference\")"
   ]
  },
  {
   "cell_type": "code",
   "execution_count": 284,
   "metadata": {},
   "outputs": [
    {
     "data": {
      "text/plain": [
       "[<matplotlib.lines.Line2D at 0x25bad04c908>,\n",
       " <matplotlib.lines.Line2D at 0x25c23266908>]"
      ]
     },
     "execution_count": 284,
     "metadata": {},
     "output_type": "execute_result"
    },
    {
     "name": "stderr",
     "output_type": "stream",
     "text": [
      "C:\\ProgramData\\Anaconda3\\lib\\site-packages\\matplotlib\\backends\\backend_agg.py:211: RuntimeWarning: Glyph 8722 missing from current font.\n",
      "  font.set_text(s, 0.0, flags=flags)\n",
      "C:\\ProgramData\\Anaconda3\\lib\\site-packages\\matplotlib\\backends\\backend_agg.py:180: RuntimeWarning: Glyph 8722 missing from current font.\n",
      "  font.set_text(s, 0, flags=flags)\n"
     ]
    },
    {
     "data": {
      "image/png": "[encoded data removed]",
      "text/plain": [
       "<Figure size 432x288 with 1 Axes>"
      ]
     },
     "metadata": {
      "needs_background": "light"
     },
     "output_type": "display_data"
    }
   ],
   "source": [
    "plt.plot(home_out.iloc[:,4:6])"
   ]
  },
  {
   "cell_type": "markdown",
   "metadata": {},
   "source": [
    "## 업종별 코로나 effect"
   ]
  },
  {
   "cell_type": "code",
   "execution_count": 310,
   "metadata": {},
   "outputs": [],
   "source": [
    "#201902,201903을 코로나 전으로, 202002,202003을 코로나 후로 하여 데이터 분리\n",
    "before_amt = data.loc[(data[\"REG_YYMM\"]==201902) | (data[\"REG_YYMM\"]==201903),:]\n",
    "after_amt = data.loc[(data[\"REG_YYMM\"]==202002) | (data[\"REG_YYMM\"]==202003),:]\n",
    "\n",
    "# 업종별로 데이터를 나눈 후 사용 금액 합산\n",
    "before_amt = before_amt.groupby([\"STD_CLSS_NM\"])[\"AMT\"].sum()\n",
    "after_amt = after_amt.groupby([\"STD_CLSS_NM\"])[\"AMT\"].sum()"
   ]
  },
  {
   "cell_type": "code",
   "execution_count": 320,
   "metadata": {},
   "outputs": [],
   "source": [
    "before_after_amt = pd.DataFrame(before_amt).merge(pd.DataFrame(after_amt), on=before_amt.index)\n",
    "before_after_amt.columns = [\"places\",\"before_amt\", \"after_amt\"]"
   ]
  },
  {
   "cell_type": "code",
   "execution_count": 328,
   "metadata": {},
   "outputs": [],
   "source": [
    "before_after_amt.index=before_after_amt[\"places\"]\n",
    "before_after_amt = before_after_amt.drop([\"places\"], axis=1)"
   ]
  },
  {
   "cell_type": "code",
   "execution_count": 331,
   "metadata": {},
   "outputs": [
    {
     "data": {
      "text/plain": [
       "Index(['before_amt', 'after_amt'], dtype='object')"
      ]
     },
     "execution_count": 331,
     "metadata": {},
     "output_type": "execute_result"
    }
   ],
   "source": [
    "before_after_amt.columns"
   ]
  },
  {
   "cell_type": "code",
   "execution_count": 332,
   "metadata": {},
   "outputs": [],
   "source": [
    "# 코로나 전과 후의 업종별 소비 증감율 칼럼 추가\n",
    "before_after_amt[\"difference\"]=(before_after_amt[\"after_amt\"]-before_after_amt[\"before_amt\"])/before_after_amt[\"before_amt\"]"
   ]
  },
  {
   "cell_type": "code",
   "execution_count": 337,
   "metadata": {},
   "outputs": [],
   "source": [
    "before_after_amt.to_csv(\"./업종별_코로나매출.csv\",index=True)"
   ]
  },
  {
   "cell_type": "code",
   "execution_count": 306,
   "metadata": {},
   "outputs": [
    {
     "data": {
      "text/html": [
       "<div>\n",
       "<style scoped>\n",
       "    .dataframe tbody tr th:only-of-type {\n",
       "        vertical-align: middle;\n",
       "    }\n",
       "\n",
       "    .dataframe tbody tr th {\n",
       "        vertical-align: top;\n",
       "    }\n",
       "\n",
       "    .dataframe thead th {\n",
       "        text-align: right;\n",
       "    }\n",
       "</style>\n",
       "<table border=\"1\" class=\"dataframe\">\n",
       "  <thead>\n",
       "    <tr style=\"text-align: right;\">\n",
       "      <th></th>\n",
       "      <th>before_home</th>\n",
       "      <th>before_out</th>\n",
       "      <th>after_home</th>\n",
       "      <th>after_out</th>\n",
       "      <th>home_difference</th>\n",
       "      <th>out_difference</th>\n",
       "    </tr>\n",
       "    <tr>\n",
       "      <th>places</th>\n",
       "      <th></th>\n",
       "      <th></th>\n",
       "      <th></th>\n",
       "      <th></th>\n",
       "      <th></th>\n",
       "      <th></th>\n",
       "    </tr>\n",
       "  </thead>\n",
       "  <tbody>\n",
       "    <tr>\n",
       "      <th>건강보조식품 소매업</th>\n",
       "      <td>11405078342</td>\n",
       "      <td>2598788433</td>\n",
       "      <td>9564316517</td>\n",
       "      <td>1529443246</td>\n",
       "      <td>-0.161398</td>\n",
       "      <td>-0.411478</td>\n",
       "    </tr>\n",
       "    <tr>\n",
       "      <th>골프장 운영업</th>\n",
       "      <td>27377596224</td>\n",
       "      <td>30904191932</td>\n",
       "      <td>27231372151</td>\n",
       "      <td>30396320925</td>\n",
       "      <td>-0.005341</td>\n",
       "      <td>-0.016434</td>\n",
       "    </tr>\n",
       "    <tr>\n",
       "      <th>과실 및 채소 소매업</th>\n",
       "      <td>68358505781</td>\n",
       "      <td>11273934427</td>\n",
       "      <td>69058631583</td>\n",
       "      <td>8140982919</td>\n",
       "      <td>0.010242</td>\n",
       "      <td>-0.277893</td>\n",
       "    </tr>\n",
       "    <tr>\n",
       "      <th>관광 민예품 및 선물용품 소매업</th>\n",
       "      <td>1084003179</td>\n",
       "      <td>770116315</td>\n",
       "      <td>737807063</td>\n",
       "      <td>257585750</td>\n",
       "      <td>-0.319368</td>\n",
       "      <td>-0.665524</td>\n",
       "    </tr>\n",
       "    <tr>\n",
       "      <th>그외 기타 분류안된 오락관련 서비스업</th>\n",
       "      <td>2201700</td>\n",
       "      <td>1975000</td>\n",
       "      <td>1916950</td>\n",
       "      <td>1043000</td>\n",
       "      <td>-0.129332</td>\n",
       "      <td>-0.471899</td>\n",
       "    </tr>\n",
       "    <tr>\n",
       "      <th>그외 기타 스포츠시설 운영업</th>\n",
       "      <td>483486810</td>\n",
       "      <td>10297500</td>\n",
       "      <td>148394090</td>\n",
       "      <td>1280650</td>\n",
       "      <td>-0.693075</td>\n",
       "      <td>-0.875635</td>\n",
       "    </tr>\n",
       "    <tr>\n",
       "      <th>그외 기타 종합 소매업</th>\n",
       "      <td>82636755272</td>\n",
       "      <td>45929202639</td>\n",
       "      <td>83524545867</td>\n",
       "      <td>51510442672</td>\n",
       "      <td>0.010743</td>\n",
       "      <td>0.121518</td>\n",
       "    </tr>\n",
       "    <tr>\n",
       "      <th>기타 대형 종합 소매업</th>\n",
       "      <td>856692253957</td>\n",
       "      <td>144974318498</td>\n",
       "      <td>700537301976</td>\n",
       "      <td>103766854963</td>\n",
       "      <td>-0.182277</td>\n",
       "      <td>-0.284240</td>\n",
       "    </tr>\n",
       "    <tr>\n",
       "      <th>기타 수상오락 서비스업</th>\n",
       "      <td>194820210</td>\n",
       "      <td>24733900</td>\n",
       "      <td>93000960</td>\n",
       "      <td>30619525</td>\n",
       "      <td>-0.522632</td>\n",
       "      <td>0.237958</td>\n",
       "    </tr>\n",
       "    <tr>\n",
       "      <th>기타 외국식 음식점업</th>\n",
       "      <td>77663830812</td>\n",
       "      <td>6853728809</td>\n",
       "      <td>58749440568</td>\n",
       "      <td>4539946636</td>\n",
       "      <td>-0.243542</td>\n",
       "      <td>-0.337595</td>\n",
       "    </tr>\n",
       "    <tr>\n",
       "      <th>기타 주점업</th>\n",
       "      <td>21314103044</td>\n",
       "      <td>637665481</td>\n",
       "      <td>16797239855</td>\n",
       "      <td>397940620</td>\n",
       "      <td>-0.211919</td>\n",
       "      <td>-0.375941</td>\n",
       "    </tr>\n",
       "    <tr>\n",
       "      <th>기타음식료품위주종합소매업</th>\n",
       "      <td>153287189605</td>\n",
       "      <td>42004748656</td>\n",
       "      <td>173113717182</td>\n",
       "      <td>41658931819</td>\n",
       "      <td>0.129342</td>\n",
       "      <td>-0.008233</td>\n",
       "    </tr>\n",
       "    <tr>\n",
       "      <th>내항 여객 운송업</th>\n",
       "      <td>629098735</td>\n",
       "      <td>4529479016</td>\n",
       "      <td>315293550</td>\n",
       "      <td>2242466752</td>\n",
       "      <td>-0.498817</td>\n",
       "      <td>-0.504917</td>\n",
       "    </tr>\n",
       "    <tr>\n",
       "      <th>마사지업</th>\n",
       "      <td>2498881645</td>\n",
       "      <td>46585065</td>\n",
       "      <td>1722109443</td>\n",
       "      <td>21881621</td>\n",
       "      <td>-0.310848</td>\n",
       "      <td>-0.530287</td>\n",
       "    </tr>\n",
       "    <tr>\n",
       "      <th>면세점</th>\n",
       "      <td>11987551743</td>\n",
       "      <td>47518994738</td>\n",
       "      <td>2203311909</td>\n",
       "      <td>14155830816</td>\n",
       "      <td>-0.816200</td>\n",
       "      <td>-0.702102</td>\n",
       "    </tr>\n",
       "    <tr>\n",
       "      <th>버스 운송업</th>\n",
       "      <td>4749904174</td>\n",
       "      <td>27002863990</td>\n",
       "      <td>2544325584</td>\n",
       "      <td>12973685600</td>\n",
       "      <td>-0.464342</td>\n",
       "      <td>-0.519544</td>\n",
       "    </tr>\n",
       "    <tr>\n",
       "      <th>비알콜 음료점업</th>\n",
       "      <td>106175734587</td>\n",
       "      <td>34575470884</td>\n",
       "      <td>96364902560</td>\n",
       "      <td>27827906702</td>\n",
       "      <td>-0.092402</td>\n",
       "      <td>-0.195155</td>\n",
       "    </tr>\n",
       "    <tr>\n",
       "      <th>빵 및 과자류 소매업</th>\n",
       "      <td>111524939469</td>\n",
       "      <td>11351933821</td>\n",
       "      <td>105716850917</td>\n",
       "      <td>7535214043</td>\n",
       "      <td>-0.052079</td>\n",
       "      <td>-0.336218</td>\n",
       "    </tr>\n",
       "    <tr>\n",
       "      <th>서양식 음식점업</th>\n",
       "      <td>181890032510</td>\n",
       "      <td>41797584962</td>\n",
       "      <td>153371758578</td>\n",
       "      <td>31397918612</td>\n",
       "      <td>-0.156789</td>\n",
       "      <td>-0.248810</td>\n",
       "    </tr>\n",
       "    <tr>\n",
       "      <th>수산물 소매업</th>\n",
       "      <td>31378813829</td>\n",
       "      <td>7361039707</td>\n",
       "      <td>30321584448</td>\n",
       "      <td>5648212176</td>\n",
       "      <td>-0.033692</td>\n",
       "      <td>-0.232688</td>\n",
       "    </tr>\n",
       "    <tr>\n",
       "      <th>슈퍼마켓</th>\n",
       "      <td>789775504558</td>\n",
       "      <td>51305172737</td>\n",
       "      <td>929067597770</td>\n",
       "      <td>47936539455</td>\n",
       "      <td>0.176369</td>\n",
       "      <td>-0.065659</td>\n",
       "    </tr>\n",
       "    <tr>\n",
       "      <th>스포츠 및 레크레이션 용품 임대업</th>\n",
       "      <td>138740587870</td>\n",
       "      <td>31917868063</td>\n",
       "      <td>90709523765</td>\n",
       "      <td>18109815275</td>\n",
       "      <td>-0.346193</td>\n",
       "      <td>-0.432612</td>\n",
       "    </tr>\n",
       "    <tr>\n",
       "      <th>여관업</th>\n",
       "      <td>27573429963</td>\n",
       "      <td>7107874135</td>\n",
       "      <td>20454162608</td>\n",
       "      <td>3712176158</td>\n",
       "      <td>-0.258193</td>\n",
       "      <td>-0.477737</td>\n",
       "    </tr>\n",
       "    <tr>\n",
       "      <th>여행사업</th>\n",
       "      <td>5413718537</td>\n",
       "      <td>10612199519</td>\n",
       "      <td>750144865</td>\n",
       "      <td>696706302</td>\n",
       "      <td>-0.861436</td>\n",
       "      <td>-0.934349</td>\n",
       "    </tr>\n",
       "    <tr>\n",
       "      <th>욕탕업</th>\n",
       "      <td>28922575777</td>\n",
       "      <td>1893502917</td>\n",
       "      <td>15800706054</td>\n",
       "      <td>546438711</td>\n",
       "      <td>-0.453690</td>\n",
       "      <td>-0.711414</td>\n",
       "    </tr>\n",
       "    <tr>\n",
       "      <th>육류 소매업</th>\n",
       "      <td>143154148849</td>\n",
       "      <td>6302467896</td>\n",
       "      <td>151758689384</td>\n",
       "      <td>5816126897</td>\n",
       "      <td>0.060107</td>\n",
       "      <td>-0.077167</td>\n",
       "    </tr>\n",
       "    <tr>\n",
       "      <th>일반유흥 주점업</th>\n",
       "      <td>69387530491</td>\n",
       "      <td>5364077161</td>\n",
       "      <td>50527382926</td>\n",
       "      <td>2958195214</td>\n",
       "      <td>-0.271809</td>\n",
       "      <td>-0.448517</td>\n",
       "    </tr>\n",
       "    <tr>\n",
       "      <th>일식 음식점업</th>\n",
       "      <td>94758169157</td>\n",
       "      <td>14122410402</td>\n",
       "      <td>69643511895</td>\n",
       "      <td>8777739685</td>\n",
       "      <td>-0.265039</td>\n",
       "      <td>-0.378453</td>\n",
       "    </tr>\n",
       "    <tr>\n",
       "      <th>자동차 임대업</th>\n",
       "      <td>871750456</td>\n",
       "      <td>1732422283</td>\n",
       "      <td>1422175623</td>\n",
       "      <td>2459225913</td>\n",
       "      <td>0.631402</td>\n",
       "      <td>0.419530</td>\n",
       "    </tr>\n",
       "    <tr>\n",
       "      <th>전시 및 행사 대행업</th>\n",
       "      <td>6084428250</td>\n",
       "      <td>5623854445</td>\n",
       "      <td>2019943243</td>\n",
       "      <td>1970763529</td>\n",
       "      <td>-0.668014</td>\n",
       "      <td>-0.649571</td>\n",
       "    </tr>\n",
       "    <tr>\n",
       "      <th>정기 항공 운송업</th>\n",
       "      <td>30956998642</td>\n",
       "      <td>56710348193</td>\n",
       "      <td>4783420791</td>\n",
       "      <td>8434852857</td>\n",
       "      <td>-0.845482</td>\n",
       "      <td>-0.851264</td>\n",
       "    </tr>\n",
       "    <tr>\n",
       "      <th>중식 음식점업</th>\n",
       "      <td>114077272091</td>\n",
       "      <td>12935740669</td>\n",
       "      <td>96218044956</td>\n",
       "      <td>8589890664</td>\n",
       "      <td>-0.156554</td>\n",
       "      <td>-0.335957</td>\n",
       "    </tr>\n",
       "    <tr>\n",
       "      <th>차량용 가스 충전업</th>\n",
       "      <td>28421442872</td>\n",
       "      <td>2909889350</td>\n",
       "      <td>27219425162</td>\n",
       "      <td>2583543336</td>\n",
       "      <td>-0.042293</td>\n",
       "      <td>-0.112151</td>\n",
       "    </tr>\n",
       "    <tr>\n",
       "      <th>차량용 주유소 운영업</th>\n",
       "      <td>767373769913</td>\n",
       "      <td>152100244337</td>\n",
       "      <td>763844436240</td>\n",
       "      <td>142086474136</td>\n",
       "      <td>-0.004599</td>\n",
       "      <td>-0.065837</td>\n",
       "    </tr>\n",
       "    <tr>\n",
       "      <th>체인화 편의점</th>\n",
       "      <td>523677677419</td>\n",
       "      <td>103101911599</td>\n",
       "      <td>566788705531</td>\n",
       "      <td>91401087458</td>\n",
       "      <td>0.082324</td>\n",
       "      <td>-0.113488</td>\n",
       "    </tr>\n",
       "    <tr>\n",
       "      <th>택시 운송업</th>\n",
       "      <td>78985281678</td>\n",
       "      <td>133813334416</td>\n",
       "      <td>63934030877</td>\n",
       "      <td>117528856444</td>\n",
       "      <td>-0.190558</td>\n",
       "      <td>-0.121695</td>\n",
       "    </tr>\n",
       "    <tr>\n",
       "      <th>피자 햄버거 샌드위치 및 유사 음식점업</th>\n",
       "      <td>126028382785</td>\n",
       "      <td>18127328986</td>\n",
       "      <td>114398246294</td>\n",
       "      <td>13892861444</td>\n",
       "      <td>-0.092282</td>\n",
       "      <td>-0.233596</td>\n",
       "    </tr>\n",
       "    <tr>\n",
       "      <th>한식 음식점업</th>\n",
       "      <td>1483752199495</td>\n",
       "      <td>324247930129</td>\n",
       "      <td>1179876901748</td>\n",
       "      <td>219146461990</td>\n",
       "      <td>-0.204802</td>\n",
       "      <td>-0.324139</td>\n",
       "    </tr>\n",
       "    <tr>\n",
       "      <th>호텔업</th>\n",
       "      <td>19463078097</td>\n",
       "      <td>10049567459</td>\n",
       "      <td>11609795677</td>\n",
       "      <td>4480953840</td>\n",
       "      <td>-0.403496</td>\n",
       "      <td>-0.554115</td>\n",
       "    </tr>\n",
       "    <tr>\n",
       "      <th>화장품 및 방향제 소매업</th>\n",
       "      <td>66477204196</td>\n",
       "      <td>24896831178</td>\n",
       "      <td>45842910839</td>\n",
       "      <td>20217014526</td>\n",
       "      <td>-0.310397</td>\n",
       "      <td>-0.187968</td>\n",
       "    </tr>\n",
       "    <tr>\n",
       "      <th>휴양콘도 운영업</th>\n",
       "      <td>1978363535</td>\n",
       "      <td>7504665981</td>\n",
       "      <td>1064921951</td>\n",
       "      <td>3346638802</td>\n",
       "      <td>-0.461716</td>\n",
       "      <td>-0.554059</td>\n",
       "    </tr>\n",
       "  </tbody>\n",
       "</table>\n",
       "</div>"
      ],
      "text/plain": [
       "                         before_home    before_out     after_home  \\\n",
       "places                                                              \n",
       "건강보조식품 소매업               11405078342    2598788433     9564316517   \n",
       "골프장 운영업                  27377596224   30904191932    27231372151   \n",
       "과실 및 채소 소매업              68358505781   11273934427    69058631583   \n",
       "관광 민예품 및 선물용품 소매업         1084003179     770116315      737807063   \n",
       "그외 기타 분류안된 오락관련 서비스업         2201700       1975000        1916950   \n",
       "그외 기타 스포츠시설 운영업            483486810      10297500      148394090   \n",
       "그외 기타 종합 소매업             82636755272   45929202639    83524545867   \n",
       "기타 대형 종합 소매업            856692253957  144974318498   700537301976   \n",
       "기타 수상오락 서비스업               194820210      24733900       93000960   \n",
       "기타 외국식 음식점업              77663830812    6853728809    58749440568   \n",
       "기타 주점업                   21314103044     637665481    16797239855   \n",
       "기타음식료품위주종합소매업           153287189605   42004748656   173113717182   \n",
       "내항 여객 운송업                  629098735    4529479016      315293550   \n",
       "마사지업                      2498881645      46585065     1722109443   \n",
       "면세점                      11987551743   47518994738     2203311909   \n",
       "버스 운송업                    4749904174   27002863990     2544325584   \n",
       "비알콜 음료점업                106175734587   34575470884    96364902560   \n",
       "빵 및 과자류 소매업             111524939469   11351933821   105716850917   \n",
       "서양식 음식점업                181890032510   41797584962   153371758578   \n",
       "수산물 소매업                  31378813829    7361039707    30321584448   \n",
       "슈퍼마켓                    789775504558   51305172737   929067597770   \n",
       "스포츠 및 레크레이션 용품 임대업      138740587870   31917868063    90709523765   \n",
       "여관업                      27573429963    7107874135    20454162608   \n",
       "여행사업                      5413718537   10612199519      750144865   \n",
       "욕탕업                      28922575777    1893502917    15800706054   \n",
       "육류 소매업                  143154148849    6302467896   151758689384   \n",
       "일반유흥 주점업                 69387530491    5364077161    50527382926   \n",
       "일식 음식점업                  94758169157   14122410402    69643511895   \n",
       "자동차 임대업                    871750456    1732422283     1422175623   \n",
       "전시 및 행사 대행업               6084428250    5623854445     2019943243   \n",
       "정기 항공 운송업                30956998642   56710348193     4783420791   \n",
       "중식 음식점업                 114077272091   12935740669    96218044956   \n",
       "차량용 가스 충전업               28421442872    2909889350    27219425162   \n",
       "차량용 주유소 운영업             767373769913  152100244337   763844436240   \n",
       "체인화 편의점                 523677677419  103101911599   566788705531   \n",
       "택시 운송업                   78985281678  133813334416    63934030877   \n",
       "피자 햄버거 샌드위치 및 유사 음식점업   126028382785   18127328986   114398246294   \n",
       "한식 음식점업                1483752199495  324247930129  1179876901748   \n",
       "호텔업                      19463078097   10049567459    11609795677   \n",
       "화장품 및 방향제 소매업            66477204196   24896831178    45842910839   \n",
       "휴양콘도 운영업                  1978363535    7504665981     1064921951   \n",
       "\n",
       "                          after_out  home_difference  out_difference  \n",
       "places                                                                \n",
       "건강보조식품 소매업               1529443246        -0.161398       -0.411478  \n",
       "골프장 운영업                 30396320925        -0.005341       -0.016434  \n",
       "과실 및 채소 소매업              8140982919         0.010242       -0.277893  \n",
       "관광 민예품 및 선물용품 소매업         257585750        -0.319368       -0.665524  \n",
       "그외 기타 분류안된 오락관련 서비스업        1043000        -0.129332       -0.471899  \n",
       "그외 기타 스포츠시설 운영업             1280650        -0.693075       -0.875635  \n",
       "그외 기타 종합 소매업            51510442672         0.010743        0.121518  \n",
       "기타 대형 종합 소매업           103766854963        -0.182277       -0.284240  \n",
       "기타 수상오락 서비스업               30619525        -0.522632        0.237958  \n",
       "기타 외국식 음식점업              4539946636        -0.243542       -0.337595  \n",
       "기타 주점업                    397940620        -0.211919       -0.375941  \n",
       "기타음식료품위주종합소매업           41658931819         0.129342       -0.008233  \n",
       "내항 여객 운송업                2242466752        -0.498817       -0.504917  \n",
       "마사지업                       21881621        -0.310848       -0.530287  \n",
       "면세점                     14155830816        -0.816200       -0.702102  \n",
       "버스 운송업                  12973685600        -0.464342       -0.519544  \n",
       "비알콜 음료점업                27827906702        -0.092402       -0.195155  \n",
       "빵 및 과자류 소매업              7535214043        -0.052079       -0.336218  \n",
       "서양식 음식점업                31397918612        -0.156789       -0.248810  \n",
       "수산물 소매업                  5648212176        -0.033692       -0.232688  \n",
       "슈퍼마켓                    47936539455         0.176369       -0.065659  \n",
       "스포츠 및 레크레이션 용품 임대업      18109815275        -0.346193       -0.432612  \n",
       "여관업                      3712176158        -0.258193       -0.477737  \n",
       "여행사업                      696706302        -0.861436       -0.934349  \n",
       "욕탕업                       546438711        -0.453690       -0.711414  \n",
       "육류 소매업                   5816126897         0.060107       -0.077167  \n",
       "일반유흥 주점업                 2958195214        -0.271809       -0.448517  \n",
       "일식 음식점업                  8777739685        -0.265039       -0.378453  \n",
       "자동차 임대업                  2459225913         0.631402        0.419530  \n",
       "전시 및 행사 대행업              1970763529        -0.668014       -0.649571  \n",
       "정기 항공 운송업                8434852857        -0.845482       -0.851264  \n",
       "중식 음식점업                  8589890664        -0.156554       -0.335957  \n",
       "차량용 가스 충전업               2583543336        -0.042293       -0.112151  \n",
       "차량용 주유소 운영업            142086474136        -0.004599       -0.065837  \n",
       "체인화 편의점                 91401087458         0.082324       -0.113488  \n",
       "택시 운송업                 117528856444        -0.190558       -0.121695  \n",
       "피자 햄버거 샌드위치 및 유사 음식점업   13892861444        -0.092282       -0.233596  \n",
       "한식 음식점업                219146461990        -0.204802       -0.324139  \n",
       "호텔업                      4480953840        -0.403496       -0.554115  \n",
       "화장품 및 방향제 소매업           20217014526        -0.310397       -0.187968  \n",
       "휴양콘도 운영업                 3346638802        -0.461716       -0.554059  "
      ]
     },
     "execution_count": 306,
     "metadata": {},
     "output_type": "execute_result"
    }
   ],
   "source": [
    "home_out"
   ]
  },
  {
   "cell_type": "code",
   "execution_count": 293,
   "metadata": {},
   "outputs": [
    {
     "data": {
      "text/plain": [
       "array(['건강보조식품 소매업', '골프장 운영업', '과실 및 채소 소매업', '관광 민예품 및 선물용품 소매업',\n",
       "       '그외 기타 스포츠시설 운영업', '그외 기타 종합 소매업', '기타 대형 종합 소매업', '기타 외국식 음식점업',\n",
       "       '기타 주점업', '기타음식료품위주종합소매업', '마사지업', '비알콜 음료점업', '빵 및 과자류 소매업',\n",
       "       '서양식 음식점업', '수산물 소매업', '슈퍼마켓', '스포츠 및 레크레이션 용품 임대업', '여관업', '욕탕업',\n",
       "       '육류 소매업', '일반유흥 주점업', '일식 음식점업', '전시 및 행사 대행업', '중식 음식점업',\n",
       "       '차량용 가스 충전업', '차량용 주유소 운영업', '체인화 편의점', '피자 햄버거 샌드위치 및 유사 음식점업',\n",
       "       '한식 음식점업', '화장품 및 방향제 소매업', '휴양콘도 운영업', '여행사업', '자동차 임대업', '호텔업',\n",
       "       '면세점', '택시 운송업', '기타 수상오락 서비스업', '내항 여객 운송업', '버스 운송업',\n",
       "       '그외 기타 분류안된 오락관련 서비스업', '정기 항공 운송업'], dtype=object)"
      ]
     },
     "execution_count": 293,
     "metadata": {},
     "output_type": "execute_result"
    }
   ],
   "source": [
    "home[\"STD_CLSS_NM\"].unique()"
   ]
  },
  {
   "cell_type": "markdown",
   "metadata": {},
   "source": [
    "## 달의 상관관계"
   ]
  },
  {
   "cell_type": "code",
   "execution_count": 7,
   "metadata": {},
   "outputs": [],
   "source": [
    "work201901 = data.loc[(data[\"REG_YYMM\"]==201901),:]\n",
    "work202001 = data.loc[(data[\"REG_YYMM\"]==202001),:]\n",
    "\n",
    "work201902 = data.loc[(data[\"REG_YYMM\"]==201902),:]\n",
    "work202002 = data.loc[(data[\"REG_YYMM\"]==202002),:]\n",
    "\n",
    "work201903 = data.loc[(data[\"REG_YYMM\"]==201903),:]\n",
    "work202003 = data.loc[(data[\"REG_YYMM\"]==202003),:]"
   ]
  },
  {
   "cell_type": "code",
   "execution_count": 15,
   "metadata": {},
   "outputs": [],
   "source": [
    "work201901_amt = work201901.groupby([\"CARD_SIDO_NM\",\"STD_CLSS_NM\"])[\"AMT\"].sum()\n",
    "work202001_amt = work202001.groupby([\"CARD_SIDO_NM\",\"STD_CLSS_NM\"])[\"AMT\"].sum()\n",
    "\n",
    "work201902_amt = work201902.groupby([\"CARD_SIDO_NM\",\"STD_CLSS_NM\"])[\"AMT\"].sum()\n",
    "work202002_amt = work202002.groupby([\"CARD_SIDO_NM\",\"STD_CLSS_NM\"])[\"AMT\"].sum()\n",
    "\n",
    "work201903_amt = work201903.groupby([\"CARD_SIDO_NM\",\"STD_CLSS_NM\"])[\"AMT\"].sum()\n",
    "work202003_amt = work202003.groupby([\"CARD_SIDO_NM\",\"STD_CLSS_NM\"])[\"AMT\"].sum()"
   ]
  },
  {
   "cell_type": "code",
   "execution_count": 29,
   "metadata": {},
   "outputs": [],
   "source": [
    "months = [work201901_amt, work202001_amt, work201902_amt, work202002_amt, work201903_amt, work202003_amt]\n",
    "for idx, d in enumerate(months):\n",
    "    if not idx:\n",
    "        a = pd.DataFrame(d)\n",
    "    if idx:\n",
    "        x = pd.DataFrame(d)\n",
    "        a = pd.concat([a,x], axis=1)"
   ]
  },
  {
   "cell_type": "code",
   "execution_count": 31,
   "metadata": {},
   "outputs": [],
   "source": [
    "a.columns = [\"201901\",\"202001\",\"201902\",\"202002\",\"201903\",\"202003\"]"
   ]
  },
  {
   "cell_type": "code",
   "execution_count": null,
   "metadata": {},
   "outputs": [],
   "source": [
    "import scipy.stats as stats\n",
    "\n",
    "# 피어슨 상관계수 검정\n",
    "corr = stats.pearsonr(cor01.sales, cor01.gdp1)\n",
    "corr\n",
    "# 스피어만 상관계수\n",
    "rho = stats.spearmanr(cor01.sales, cor01.gdp1)\n",
    "rho\n"
   ]
  },
  {
   "cell_type": "code",
   "execution_count": 58,
   "metadata": {},
   "outputs": [],
   "source": [
    "import scipy.stats as stats"
   ]
  },
  {
   "cell_type": "code",
   "execution_count": 93,
   "metadata": {},
   "outputs": [],
   "source": [
    "# 39개의 업종\n",
    "corr_dic = {}\n",
    "# 지역별로 나눈 후\n",
    "for i in range(17):\n",
    "    sub_data = a[39*i:39*(i+1)]\n",
    "    corr_dic[places[i]]=[]\n",
    "    # 년도별 같은 달을 비교\n",
    "    for date in range(0,6,2):\n",
    "        sub_data_2019 = sub_data.iloc[:,date].sort_values(ascending=False)\n",
    "        sub_data_2020 = sub_data.iloc[:,date+1].sort_values(ascending=False)\n",
    "        corr_dic[places[i]].append(sub_data_2019)\n",
    "        corr_dic[places[i]].append(sub_data_2020)"
   ]
  },
  {
   "cell_type": "code",
   "execution_count": 104,
   "metadata": {},
   "outputs": [],
   "source": [
    "month_same={}\n",
    "month_diff={}\n",
    "for place, d in corr_dic.items():\n",
    "    month_same[place]=[]\n",
    "    month_diff[place]=[]\n",
    "    for date in range(0,6,2):\n",
    "        month_same[place].append(sum(d[date].index==d[date+1].index))\n",
    "        if date!=4:\n",
    "            month_diff[place].append(sum(d[date].index==d[date+2].index))\n",
    "        else:\n",
    "            month_diff[place].append(sum(d[0].index==d[4].index))"
   ]
  },
  {
   "cell_type": "code",
   "execution_count": 113,
   "metadata": {},
   "outputs": [
    {
     "data": {
      "text/html": [
       "<div>\n",
       "<style scoped>\n",
       "    .dataframe tbody tr th:only-of-type {\n",
       "        vertical-align: middle;\n",
       "    }\n",
       "\n",
       "    .dataframe tbody tr th {\n",
       "        vertical-align: top;\n",
       "    }\n",
       "\n",
       "    .dataframe thead th {\n",
       "        text-align: right;\n",
       "    }\n",
       "</style>\n",
       "<table border=\"1\" class=\"dataframe\">\n",
       "  <thead>\n",
       "    <tr style=\"text-align: right;\">\n",
       "      <th></th>\n",
       "      <th>0</th>\n",
       "      <th>1</th>\n",
       "    </tr>\n",
       "  </thead>\n",
       "  <tbody>\n",
       "    <tr>\n",
       "      <th>강원</th>\n",
       "      <td>47</td>\n",
       "      <td>43</td>\n",
       "    </tr>\n",
       "    <tr>\n",
       "      <th>경기</th>\n",
       "      <td>39</td>\n",
       "      <td>51</td>\n",
       "    </tr>\n",
       "    <tr>\n",
       "      <th>경남</th>\n",
       "      <td>36</td>\n",
       "      <td>68</td>\n",
       "    </tr>\n",
       "    <tr>\n",
       "      <th>경북</th>\n",
       "      <td>47</td>\n",
       "      <td>53</td>\n",
       "    </tr>\n",
       "    <tr>\n",
       "      <th>광주</th>\n",
       "      <td>46</td>\n",
       "      <td>67</td>\n",
       "    </tr>\n",
       "    <tr>\n",
       "      <th>대구</th>\n",
       "      <td>31</td>\n",
       "      <td>63</td>\n",
       "    </tr>\n",
       "    <tr>\n",
       "      <th>대전</th>\n",
       "      <td>48</td>\n",
       "      <td>66</td>\n",
       "    </tr>\n",
       "    <tr>\n",
       "      <th>부산</th>\n",
       "      <td>44</td>\n",
       "      <td>54</td>\n",
       "    </tr>\n",
       "    <tr>\n",
       "      <th>서울</th>\n",
       "      <td>39</td>\n",
       "      <td>73</td>\n",
       "    </tr>\n",
       "    <tr>\n",
       "      <th>세종</th>\n",
       "      <td>39</td>\n",
       "      <td>45</td>\n",
       "    </tr>\n",
       "    <tr>\n",
       "      <th>울산</th>\n",
       "      <td>48</td>\n",
       "      <td>53</td>\n",
       "    </tr>\n",
       "    <tr>\n",
       "      <th>인천</th>\n",
       "      <td>43</td>\n",
       "      <td>67</td>\n",
       "    </tr>\n",
       "    <tr>\n",
       "      <th>전남</th>\n",
       "      <td>35</td>\n",
       "      <td>60</td>\n",
       "    </tr>\n",
       "    <tr>\n",
       "      <th>전북</th>\n",
       "      <td>30</td>\n",
       "      <td>53</td>\n",
       "    </tr>\n",
       "    <tr>\n",
       "      <th>제주</th>\n",
       "      <td>35</td>\n",
       "      <td>61</td>\n",
       "    </tr>\n",
       "    <tr>\n",
       "      <th>충남</th>\n",
       "      <td>49</td>\n",
       "      <td>37</td>\n",
       "    </tr>\n",
       "    <tr>\n",
       "      <th>충북</th>\n",
       "      <td>26</td>\n",
       "      <td>38</td>\n",
       "    </tr>\n",
       "  </tbody>\n",
       "</table>\n",
       "</div>"
      ],
      "text/plain": [
       "     0   1\n",
       "강원  47  43\n",
       "경기  39  51\n",
       "경남  36  68\n",
       "경북  47  53\n",
       "광주  46  67\n",
       "대구  31  63\n",
       "대전  48  66\n",
       "부산  44  54\n",
       "서울  39  73\n",
       "세종  39  45\n",
       "울산  48  53\n",
       "인천  43  67\n",
       "전남  35  60\n",
       "전북  30  53\n",
       "제주  35  61\n",
       "충남  49  37\n",
       "충북  26  38"
      ]
     },
     "execution_count": 113,
     "metadata": {},
     "output_type": "execute_result"
    }
   ],
   "source": [
    "same=pd.DataFrame(month_same).sum(axis=0)\n",
    "diff=pd.DataFrame(month_diff).sum(axis=0)\n",
    "pd.concat([same,diff], axis=1)\n",
    "\n",
    "# 같은 년도의 비슷한 달이 영향을 주는 것에 비해, 월별로 비슷한 추세가 있는 것을 확인"
   ]
  },
  {
   "cell_type": "code",
   "execution_count": 109,
   "metadata": {},
   "outputs": [
    {
     "data": {
      "text/plain": [
       "강원    43\n",
       "경기    51\n",
       "경남    68\n",
       "경북    53\n",
       "광주    67\n",
       "대구    63\n",
       "대전    66\n",
       "부산    54\n",
       "서울    73\n",
       "세종    45\n",
       "울산    53\n",
       "인천    67\n",
       "전남    60\n",
       "전북    53\n",
       "제주    61\n",
       "충남    37\n",
       "충북    38\n",
       "dtype: int64"
      ]
     },
     "execution_count": 109,
     "metadata": {},
     "output_type": "execute_result"
    }
   ],
   "source": [
    "pd.DataFrame(month_diff).sum(axis=0)"
   ]
  },
  {
   "cell_type": "code",
   "execution_count": 95,
   "metadata": {},
   "outputs": [
    {
     "data": {
      "text/plain": [
       "array([ True,  True,  True,  True,  True,  True,  True, False, False,\n",
       "       False,  True, False,  True, False, False, False, False, False,\n",
       "        True, False, False,  True,  True, False,  True, False,  True,\n",
       "        True,  True,  True, False, False, False, False, False,  True,\n",
       "       False,  True,  True])"
      ]
     },
     "execution_count": 95,
     "metadata": {},
     "output_type": "execute_result"
    }
   ],
   "source": [
    "corr_dic[\"강원\"][0].index==corr_dic[\"강원\"][1].index"
   ]
  },
  {
   "cell_type": "code",
   "execution_count": 98,
   "metadata": {},
   "outputs": [
    {
     "data": {
      "text/plain": [
       "array([ True,  True,  True,  True,  True,  True, False, False,  True,\n",
       "        True, False, False, False, False, False, False, False, False,\n",
       "       False, False, False, False, False, False, False, False, False,\n",
       "       False,  True,  True, False, False,  True,  True, False, False,\n",
       "       False, False, False])"
      ]
     },
     "execution_count": 98,
     "metadata": {},
     "output_type": "execute_result"
    }
   ],
   "source": [
    "corr_dic[\"강원\"][0].index==corr_dic[\"강원\"][4].index"
   ]
  },
  {
   "cell_type": "code",
   "execution_count": 60,
   "metadata": {},
   "outputs": [],
   "source": [
    "places = data[\"CARD_SIDO_NM\"].unique()"
   ]
  },
  {
   "cell_type": "code",
   "execution_count": 61,
   "metadata": {},
   "outputs": [
    {
     "data": {
      "text/plain": [
       "array(['강원', '경기', '경남', '경북', '광주', '대구', '대전', '부산', '서울', '세종', '울산',\n",
       "       '인천', '전남', '전북', '제주', '충남', '충북'], dtype=object)"
      ]
     },
     "execution_count": 61,
     "metadata": {},
     "output_type": "execute_result"
    }
   ],
   "source": [
    "places"
   ]
  },
  {
   "cell_type": "markdown",
   "metadata": {},
   "source": [
    "## 코로나 effect 추세 확인"
   ]
  },
  {
   "cell_type": "code",
   "execution_count": 278,
   "metadata": {},
   "outputs": [],
   "source": [
    "# 2월의 코로나 effect 확인\n",
    "effect02 = data.loc[(data[\"REG_YYMM\"]==201902)|(data[\"REG_YYMM\"]==202002),:]\n",
    "effect02 = pd.DataFrame(effect02.groupby([\"REG_YYMM\",\"CARD_SIDO_NM\",\"STD_CLSS_NM\"])[\"AMT\"].sum())\n",
    "\n",
    "effect02 = effect02.reset_index()\n",
    "effect02 = effect02[:627].merge(effect02[627:], on=[\"CARD_SIDO_NM\", \"STD_CLSS_NM\"], how=\"outer\")"
   ]
  },
  {
   "cell_type": "code",
   "execution_count": 280,
   "metadata": {},
   "outputs": [],
   "source": [
    "# 3월의 코로나 effect 확인\n",
    "effect03 = data.loc[(data[\"REG_YYMM\"]==201903)|(data[\"REG_YYMM\"]==202003),:]\n",
    "effect03 = pd.DataFrame(effect03.groupby([\"REG_YYMM\",\"CARD_SIDO_NM\",\"STD_CLSS_NM\"])[\"AMT\"].sum())\n",
    "\n",
    "effect03 = effect03.reset_index()\n",
    "effect03 = effect03[:630].merge(effect03[630:], on=[\"CARD_SIDO_NM\", \"STD_CLSS_NM\"], how=\"outer\")"
   ]
  },
  {
   "cell_type": "code",
   "execution_count": 282,
   "metadata": {},
   "outputs": [],
   "source": [
    "effect03[\"corona_effect\"]=effect03[\"AMT_y\"]-effect03[\"AMT_x\"]\n",
    "effect02[\"corona_effect\"]=effect02[\"AMT_y\"]-effect02[\"AMT_x\"]"
   ]
  },
  {
   "cell_type": "code",
   "execution_count": 287,
   "metadata": {},
   "outputs": [],
   "source": [
    "corona_effect = effect02.merge(effect03, on=[\"CARD_SIDO_NM\",\"STD_CLSS_NM\"], how=\"outer\")[[\"CARD_SIDO_NM\",\"STD_CLSS_NM\",\"corona_effect_x\",\"corona_effect_y\"]]"
   ]
  },
  {
   "cell_type": "code",
   "execution_count": 290,
   "metadata": {},
   "outputs": [],
   "source": [
    "corona_effect[\"corona_effect_diff\"]=corona_effect[\"corona_effect_y\"]-corona_effect[\"corona_effect_x\"]\n",
    "corona_effect.rename({\"corona_effect_x\":\"corona_effect_02\", \"corona_effect_y\":\"corona_effect_03\"}, inplace=True)"
   ]
  },
  {
   "cell_type": "code",
   "execution_count": 299,
   "metadata": {},
   "outputs": [
    {
     "data": {
      "text/plain": [
       "<matplotlib.axes._subplots.AxesSubplot at 0x29cb39d01c8>"
      ]
     },
     "execution_count": 299,
     "metadata": {},
     "output_type": "execute_result"
    },
    {
     "name": "stderr",
     "output_type": "stream",
     "text": [
      "C:\\ProgramData\\Anaconda3\\lib\\site-packages\\matplotlib\\backends\\backend_agg.py:211: RuntimeWarning: Glyph 8722 missing from current font.\n",
      "  font.set_text(s, 0.0, flags=flags)\n",
      "C:\\ProgramData\\Anaconda3\\lib\\site-packages\\matplotlib\\backends\\backend_agg.py:180: RuntimeWarning: Glyph 8722 missing from current font.\n",
      "  font.set_text(s, 0, flags=flags)\n"
     ]
    },
    {
     "data": {
      "image/png": "[encoded data removed]",
      "text/plain": [
       "<Figure size 432x288 with 1 Axes>"
      ]
     },
     "metadata": {
      "needs_background": "light"
     },
     "output_type": "display_data"
    }
   ],
   "source": [
    "sns.barplot(x=\"CARD_SIDO_NM\", y = \"corona_effect_diff\", data = corona_effect)"
   ]
  },
  {
   "cell_type": "code",
   "execution_count": 316,
   "metadata": {},
   "outputs": [
    {
     "data": {
      "text/html": [
       "<div>\n",
       "<style scoped>\n",
       "    .dataframe tbody tr th:only-of-type {\n",
       "        vertical-align: middle;\n",
       "    }\n",
       "\n",
       "    .dataframe tbody tr th {\n",
       "        vertical-align: top;\n",
       "    }\n",
       "\n",
       "    .dataframe thead th {\n",
       "        text-align: right;\n",
       "    }\n",
       "</style>\n",
       "<table border=\"1\" class=\"dataframe\">\n",
       "  <thead>\n",
       "    <tr style=\"text-align: right;\">\n",
       "      <th></th>\n",
       "      <th>CARD_SIDO_NM</th>\n",
       "      <th>STD_CLSS_NM</th>\n",
       "      <th>corona_effect_x</th>\n",
       "      <th>corona_effect_y</th>\n",
       "      <th>corona_effect_diff</th>\n",
       "    </tr>\n",
       "  </thead>\n",
       "  <tbody>\n",
       "    <tr>\n",
       "      <th>0</th>\n",
       "      <td>강원</td>\n",
       "      <td>건강보조식품 소매업</td>\n",
       "      <td>-70210310.0</td>\n",
       "      <td>-13380013.0</td>\n",
       "      <td>56830297.0</td>\n",
       "    </tr>\n",
       "    <tr>\n",
       "      <th>1</th>\n",
       "      <td>강원</td>\n",
       "      <td>골프장 운영업</td>\n",
       "      <td>-183784517.0</td>\n",
       "      <td>155300856.0</td>\n",
       "      <td>339085373.0</td>\n",
       "    </tr>\n",
       "    <tr>\n",
       "      <th>2</th>\n",
       "      <td>강원</td>\n",
       "      <td>과실 및 채소 소매업</td>\n",
       "      <td>-249051523.0</td>\n",
       "      <td>55588993.0</td>\n",
       "      <td>304640516.0</td>\n",
       "    </tr>\n",
       "    <tr>\n",
       "      <th>3</th>\n",
       "      <td>강원</td>\n",
       "      <td>관광 민예품 및 선물용품 소매업</td>\n",
       "      <td>-6545649.0</td>\n",
       "      <td>-11705890.0</td>\n",
       "      <td>-5160241.0</td>\n",
       "    </tr>\n",
       "    <tr>\n",
       "      <th>4</th>\n",
       "      <td>강원</td>\n",
       "      <td>그외 기타 스포츠시설 운영업</td>\n",
       "      <td>-2074400.0</td>\n",
       "      <td>-4742720.0</td>\n",
       "      <td>-2668320.0</td>\n",
       "    </tr>\n",
       "    <tr>\n",
       "      <th>...</th>\n",
       "      <td>...</td>\n",
       "      <td>...</td>\n",
       "      <td>...</td>\n",
       "      <td>...</td>\n",
       "      <td>...</td>\n",
       "    </tr>\n",
       "    <tr>\n",
       "      <th>636</th>\n",
       "      <td>경기</td>\n",
       "      <td>내항 여객 운송업</td>\n",
       "      <td>NaN</td>\n",
       "      <td>48500.0</td>\n",
       "      <td>NaN</td>\n",
       "    </tr>\n",
       "    <tr>\n",
       "      <th>637</th>\n",
       "      <td>경북</td>\n",
       "      <td>그외 기타 분류안된 오락관련 서비스업</td>\n",
       "      <td>NaN</td>\n",
       "      <td>NaN</td>\n",
       "      <td>NaN</td>\n",
       "    </tr>\n",
       "    <tr>\n",
       "      <th>638</th>\n",
       "      <td>광주</td>\n",
       "      <td>택시 운송업</td>\n",
       "      <td>NaN</td>\n",
       "      <td>NaN</td>\n",
       "      <td>NaN</td>\n",
       "    </tr>\n",
       "    <tr>\n",
       "      <th>639</th>\n",
       "      <td>충북</td>\n",
       "      <td>내항 여객 운송업</td>\n",
       "      <td>NaN</td>\n",
       "      <td>NaN</td>\n",
       "      <td>NaN</td>\n",
       "    </tr>\n",
       "    <tr>\n",
       "      <th>640</th>\n",
       "      <td>충북</td>\n",
       "      <td>여행사업</td>\n",
       "      <td>NaN</td>\n",
       "      <td>NaN</td>\n",
       "      <td>NaN</td>\n",
       "    </tr>\n",
       "  </tbody>\n",
       "</table>\n",
       "<p>641 rows × 5 columns</p>\n",
       "</div>"
      ],
      "text/plain": [
       "    CARD_SIDO_NM           STD_CLSS_NM  corona_effect_x  corona_effect_y  \\\n",
       "0             강원            건강보조식품 소매업      -70210310.0      -13380013.0   \n",
       "1             강원               골프장 운영업     -183784517.0      155300856.0   \n",
       "2             강원           과실 및 채소 소매업     -249051523.0       55588993.0   \n",
       "3             강원     관광 민예품 및 선물용품 소매업       -6545649.0      -11705890.0   \n",
       "4             강원       그외 기타 스포츠시설 운영업       -2074400.0       -4742720.0   \n",
       "..           ...                   ...              ...              ...   \n",
       "636           경기             내항 여객 운송업              NaN          48500.0   \n",
       "637           경북  그외 기타 분류안된 오락관련 서비스업              NaN              NaN   \n",
       "638           광주                택시 운송업              NaN              NaN   \n",
       "639           충북             내항 여객 운송업              NaN              NaN   \n",
       "640           충북                  여행사업              NaN              NaN   \n",
       "\n",
       "     corona_effect_diff  \n",
       "0            56830297.0  \n",
       "1           339085373.0  \n",
       "2           304640516.0  \n",
       "3            -5160241.0  \n",
       "4            -2668320.0  \n",
       "..                  ...  \n",
       "636                 NaN  \n",
       "637                 NaN  \n",
       "638                 NaN  \n",
       "639                 NaN  \n",
       "640                 NaN  \n",
       "\n",
       "[641 rows x 5 columns]"
      ]
     },
     "execution_count": 316,
     "metadata": {},
     "output_type": "execute_result"
    }
   ],
   "source": [
    "corona_effect"
   ]
  },
  {
   "cell_type": "code",
   "execution_count": 305,
   "metadata": {},
   "outputs": [
    {
     "data": {
      "text/plain": [
       "179"
      ]
     },
     "execution_count": 305,
     "metadata": {},
     "output_type": "execute_result"
    }
   ],
   "source": [
    "sum(corona_effect[\"corona_effect_diff\"]>0)"
   ]
  },
  {
   "cell_type": "code",
   "execution_count": 317,
   "metadata": {},
   "outputs": [
    {
     "data": {
      "text/plain": [
       "차량용 주유소 운영업              17\n",
       "기타 주점업                   17\n",
       "비알콜 음료점업                 17\n",
       "화장품 및 방향제 소매업            17\n",
       "체인화 편의점                  17\n",
       "일반유흥 주점업                 17\n",
       "중식 음식점업                  17\n",
       "서양식 음식점업                 17\n",
       "여관업                      17\n",
       "기타 외국식 음식점업              17\n",
       "마사지업                     17\n",
       "차량용 가스 충전업               17\n",
       "일식 음식점업                  17\n",
       "한식 음식점업                  17\n",
       "스포츠 및 레크레이션 용품 임대업       16\n",
       "빵 및 과자류 소매업              14\n",
       "전시 및 행사 대행업              14\n",
       "피자 햄버거 샌드위치 및 유사 음식점업    14\n",
       "골프장 운영업                  13\n",
       "호텔업                      13\n",
       "관광 민예품 및 선물용품 소매업        12\n",
       "욕탕업                      12\n",
       "자동차 임대업                  10\n",
       "그외 기타 스포츠시설 운영업           9\n",
       "택시 운송업                    9\n",
       "여행사업                      9\n",
       "버스 운송업                    6\n",
       "정기 항공 운송업                 5\n",
       "내항 여객 운송업                 5\n",
       "기타 대형 종합 소매업              4\n",
       "휴양콘도 운영업                  3\n",
       "수산물 소매업                   3\n",
       "면세점                       3\n",
       "기타 수상오락 서비스업              3\n",
       "과실 및 채소 소매업               2\n",
       "그외 기타 종합 소매업              2\n",
       "기타음식료품위주종합소매업             1\n",
       "건강보조식품 소매업                1\n",
       "슈퍼마켓                      1\n",
       "Name: STD_CLSS_NM, dtype: int64"
      ]
     },
     "execution_count": 317,
     "metadata": {},
     "output_type": "execute_result"
    }
   ],
   "source": [
    "corona_effect[corona_effect['corona_effect_diff']<0][\"STD_CLSS_NM\"].value_counts()"
   ]
  },
  {
   "cell_type": "markdown",
   "metadata": {},
   "source": [
    "## 칼럼별 코로나 영향 확인"
   ]
  },
  {
   "cell_type": "code",
   "execution_count": 216,
   "metadata": {},
   "outputs": [],
   "source": [
    "#201902,201903을 코로나 전으로, 202002,202003을 코로나 후로 하여 데이터 분리\n",
    "before_amt = data.loc[(data[\"REG_YYMM\"]==201902) | (data[\"REG_YYMM\"]==201903),:]\n",
    "after_amt = data.loc[(data[\"REG_YYMM\"]==202002) | (data[\"REG_YYMM\"]==202003),:]\n",
    "\n",
    "# 칼럼별로 데이터를 나눈 후 사용 금액 합산\n",
    "before_amt = before_amt.groupby([\"FLC\"])[\"AMT\"].sum()\n",
    "after_amt = after_amt.groupby([\"FLC\"])[\"AMT\"].sum()"
   ]
  },
  {
   "cell_type": "code",
   "execution_count": 217,
   "metadata": {},
   "outputs": [],
   "source": [
    "before_after_amt = pd.DataFrame(before_amt).merge(pd.DataFrame(after_amt), on=before_amt.index)\n",
    "before_after_amt.columns = [\"places\",\"before_amt\", \"after_amt\"]"
   ]
  },
  {
   "cell_type": "code",
   "execution_count": 218,
   "metadata": {},
   "outputs": [
    {
     "data": {
      "text/plain": [
       "<matplotlib.axes._subplots.AxesSubplot at 0x29cb3021788>"
      ]
     },
     "execution_count": 218,
     "metadata": {},
     "output_type": "execute_result"
    },
    {
     "name": "stderr",
     "output_type": "stream",
     "text": [
      "C:\\ProgramData\\Anaconda3\\lib\\site-packages\\matplotlib\\backends\\backend_agg.py:211: RuntimeWarning: Glyph 8722 missing from current font.\n",
      "  font.set_text(s, 0.0, flags=flags)\n",
      "C:\\ProgramData\\Anaconda3\\lib\\site-packages\\matplotlib\\backends\\backend_agg.py:180: RuntimeWarning: Glyph 8722 missing from current font.\n",
      "  font.set_text(s, 0, flags=flags)\n"
     ]
    },
    {
     "data": {
      "image/png": "[encoded data removed]",
      "text/plain": [
       "<Figure size 432x288 with 1 Axes>"
      ]
     },
     "metadata": {
      "needs_background": "light"
     },
     "output_type": "display_data"
    }
   ],
   "source": [
    "before_after_amt[\"diff\"]=(before_after_amt[\"after_amt\"]-before_after_amt[\"before_amt\"])/before_after_amt[\"before_amt\"]\n",
    "sns.barplot(x=\"places\", y=\"diff\", data =before_after_amt)"
   ]
  },
  {
   "cell_type": "code",
   "execution_count": 219,
   "metadata": {},
   "outputs": [
    {
     "data": {
      "text/html": [
       "<div>\n",
       "<style scoped>\n",
       "    .dataframe tbody tr th:only-of-type {\n",
       "        vertical-align: middle;\n",
       "    }\n",
       "\n",
       "    .dataframe tbody tr th {\n",
       "        vertical-align: top;\n",
       "    }\n",
       "\n",
       "    .dataframe thead th {\n",
       "        text-align: right;\n",
       "    }\n",
       "</style>\n",
       "<table border=\"1\" class=\"dataframe\">\n",
       "  <thead>\n",
       "    <tr style=\"text-align: right;\">\n",
       "      <th></th>\n",
       "      <th>places</th>\n",
       "      <th>before_amt</th>\n",
       "      <th>after_amt</th>\n",
       "      <th>diff</th>\n",
       "    </tr>\n",
       "  </thead>\n",
       "  <tbody>\n",
       "    <tr>\n",
       "      <th>0</th>\n",
       "      <td>1</td>\n",
       "      <td>902939113648</td>\n",
       "      <td>876745851441</td>\n",
       "      <td>-0.029009</td>\n",
       "    </tr>\n",
       "    <tr>\n",
       "      <th>1</th>\n",
       "      <td>2</td>\n",
       "      <td>1654546944545</td>\n",
       "      <td>1399411874007</td>\n",
       "      <td>-0.154202</td>\n",
       "    </tr>\n",
       "    <tr>\n",
       "      <th>2</th>\n",
       "      <td>3</td>\n",
       "      <td>1499365144115</td>\n",
       "      <td>1302931384584</td>\n",
       "      <td>-0.131011</td>\n",
       "    </tr>\n",
       "    <tr>\n",
       "      <th>3</th>\n",
       "      <td>4</td>\n",
       "      <td>2297502982092</td>\n",
       "      <td>2044640018723</td>\n",
       "      <td>-0.110060</td>\n",
       "    </tr>\n",
       "    <tr>\n",
       "      <th>4</th>\n",
       "      <td>5</td>\n",
       "      <td>1385401407487</td>\n",
       "      <td>1184850242878</td>\n",
       "      <td>-0.144760</td>\n",
       "    </tr>\n",
       "  </tbody>\n",
       "</table>\n",
       "</div>"
      ],
      "text/plain": [
       "   places     before_amt      after_amt      diff\n",
       "0       1   902939113648   876745851441 -0.029009\n",
       "1       2  1654546944545  1399411874007 -0.154202\n",
       "2       3  1499365144115  1302931384584 -0.131011\n",
       "3       4  2297502982092  2044640018723 -0.110060\n",
       "4       5  1385401407487  1184850242878 -0.144760"
      ]
     },
     "execution_count": 219,
     "metadata": {},
     "output_type": "execute_result"
    }
   ],
   "source": [
    "before_after_amt"
   ]
  },
  {
   "cell_type": "code",
   "execution_count": 215,
   "metadata": {},
   "outputs": [
    {
     "data": {
      "text/html": [
       "<div>\n",
       "<style scoped>\n",
       "    .dataframe tbody tr th:only-of-type {\n",
       "        vertical-align: middle;\n",
       "    }\n",
       "\n",
       "    .dataframe tbody tr th {\n",
       "        vertical-align: top;\n",
       "    }\n",
       "\n",
       "    .dataframe thead th {\n",
       "        text-align: right;\n",
       "    }\n",
       "</style>\n",
       "<table border=\"1\" class=\"dataframe\">\n",
       "  <thead>\n",
       "    <tr style=\"text-align: right;\">\n",
       "      <th></th>\n",
       "      <th>REG_YYMM</th>\n",
       "      <th>CARD_SIDO_NM</th>\n",
       "      <th>CARD_CCG_NM</th>\n",
       "      <th>STD_CLSS_NM</th>\n",
       "      <th>HOM_SIDO_NM</th>\n",
       "      <th>HOM_CCG_NM</th>\n",
       "      <th>AGE</th>\n",
       "      <th>SEX_CTGO_CD</th>\n",
       "      <th>FLC</th>\n",
       "      <th>CSTMR_CNT</th>\n",
       "      <th>AMT</th>\n",
       "      <th>CNT</th>\n",
       "    </tr>\n",
       "  </thead>\n",
       "  <tbody>\n",
       "    <tr>\n",
       "      <th>0</th>\n",
       "      <td>201901</td>\n",
       "      <td>강원</td>\n",
       "      <td>강릉시</td>\n",
       "      <td>건강보조식품 소매업</td>\n",
       "      <td>강원</td>\n",
       "      <td>강릉시</td>\n",
       "      <td>20s</td>\n",
       "      <td>1</td>\n",
       "      <td>1</td>\n",
       "      <td>4</td>\n",
       "      <td>311200</td>\n",
       "      <td>4</td>\n",
       "    </tr>\n",
       "    <tr>\n",
       "      <th>1</th>\n",
       "      <td>201901</td>\n",
       "      <td>강원</td>\n",
       "      <td>강릉시</td>\n",
       "      <td>건강보조식품 소매업</td>\n",
       "      <td>강원</td>\n",
       "      <td>강릉시</td>\n",
       "      <td>30s</td>\n",
       "      <td>1</td>\n",
       "      <td>2</td>\n",
       "      <td>7</td>\n",
       "      <td>1374500</td>\n",
       "      <td>8</td>\n",
       "    </tr>\n",
       "    <tr>\n",
       "      <th>2</th>\n",
       "      <td>201901</td>\n",
       "      <td>강원</td>\n",
       "      <td>강릉시</td>\n",
       "      <td>건강보조식품 소매업</td>\n",
       "      <td>강원</td>\n",
       "      <td>강릉시</td>\n",
       "      <td>30s</td>\n",
       "      <td>2</td>\n",
       "      <td>2</td>\n",
       "      <td>6</td>\n",
       "      <td>818700</td>\n",
       "      <td>6</td>\n",
       "    </tr>\n",
       "    <tr>\n",
       "      <th>3</th>\n",
       "      <td>201901</td>\n",
       "      <td>강원</td>\n",
       "      <td>강릉시</td>\n",
       "      <td>건강보조식품 소매업</td>\n",
       "      <td>강원</td>\n",
       "      <td>강릉시</td>\n",
       "      <td>40s</td>\n",
       "      <td>1</td>\n",
       "      <td>3</td>\n",
       "      <td>4</td>\n",
       "      <td>1717000</td>\n",
       "      <td>5</td>\n",
       "    </tr>\n",
       "    <tr>\n",
       "      <th>4</th>\n",
       "      <td>201901</td>\n",
       "      <td>강원</td>\n",
       "      <td>강릉시</td>\n",
       "      <td>건강보조식품 소매업</td>\n",
       "      <td>강원</td>\n",
       "      <td>강릉시</td>\n",
       "      <td>40s</td>\n",
       "      <td>1</td>\n",
       "      <td>4</td>\n",
       "      <td>3</td>\n",
       "      <td>1047300</td>\n",
       "      <td>3</td>\n",
       "    </tr>\n",
       "    <tr>\n",
       "      <th>...</th>\n",
       "      <td>...</td>\n",
       "      <td>...</td>\n",
       "      <td>...</td>\n",
       "      <td>...</td>\n",
       "      <td>...</td>\n",
       "      <td>...</td>\n",
       "      <td>...</td>\n",
       "      <td>...</td>\n",
       "      <td>...</td>\n",
       "      <td>...</td>\n",
       "      <td>...</td>\n",
       "      <td>...</td>\n",
       "    </tr>\n",
       "    <tr>\n",
       "      <th>24697787</th>\n",
       "      <td>202003</td>\n",
       "      <td>충북</td>\n",
       "      <td>충주시</td>\n",
       "      <td>휴양콘도 운영업</td>\n",
       "      <td>충북</td>\n",
       "      <td>충주시</td>\n",
       "      <td>30s</td>\n",
       "      <td>1</td>\n",
       "      <td>2</td>\n",
       "      <td>3</td>\n",
       "      <td>43300</td>\n",
       "      <td>4</td>\n",
       "    </tr>\n",
       "    <tr>\n",
       "      <th>24697788</th>\n",
       "      <td>202003</td>\n",
       "      <td>충북</td>\n",
       "      <td>충주시</td>\n",
       "      <td>휴양콘도 운영업</td>\n",
       "      <td>충북</td>\n",
       "      <td>충주시</td>\n",
       "      <td>40s</td>\n",
       "      <td>1</td>\n",
       "      <td>3</td>\n",
       "      <td>3</td>\n",
       "      <td>35000</td>\n",
       "      <td>3</td>\n",
       "    </tr>\n",
       "    <tr>\n",
       "      <th>24697789</th>\n",
       "      <td>202003</td>\n",
       "      <td>충북</td>\n",
       "      <td>충주시</td>\n",
       "      <td>휴양콘도 운영업</td>\n",
       "      <td>충북</td>\n",
       "      <td>충주시</td>\n",
       "      <td>50s</td>\n",
       "      <td>1</td>\n",
       "      <td>4</td>\n",
       "      <td>4</td>\n",
       "      <td>188000</td>\n",
       "      <td>6</td>\n",
       "    </tr>\n",
       "    <tr>\n",
       "      <th>24697790</th>\n",
       "      <td>202003</td>\n",
       "      <td>충북</td>\n",
       "      <td>충주시</td>\n",
       "      <td>휴양콘도 운영업</td>\n",
       "      <td>충북</td>\n",
       "      <td>충주시</td>\n",
       "      <td>50s</td>\n",
       "      <td>2</td>\n",
       "      <td>4</td>\n",
       "      <td>4</td>\n",
       "      <td>99000</td>\n",
       "      <td>6</td>\n",
       "    </tr>\n",
       "    <tr>\n",
       "      <th>24697791</th>\n",
       "      <td>202003</td>\n",
       "      <td>충북</td>\n",
       "      <td>충주시</td>\n",
       "      <td>휴양콘도 운영업</td>\n",
       "      <td>충북</td>\n",
       "      <td>충주시</td>\n",
       "      <td>60s</td>\n",
       "      <td>1</td>\n",
       "      <td>5</td>\n",
       "      <td>3</td>\n",
       "      <td>194000</td>\n",
       "      <td>3</td>\n",
       "    </tr>\n",
       "  </tbody>\n",
       "</table>\n",
       "<p>24697792 rows × 12 columns</p>\n",
       "</div>"
      ],
      "text/plain": [
       "          REG_YYMM CARD_SIDO_NM CARD_CCG_NM STD_CLSS_NM HOM_SIDO_NM  \\\n",
       "0           201901           강원         강릉시  건강보조식품 소매업          강원   \n",
       "1           201901           강원         강릉시  건강보조식품 소매업          강원   \n",
       "2           201901           강원         강릉시  건강보조식품 소매업          강원   \n",
       "3           201901           강원         강릉시  건강보조식품 소매업          강원   \n",
       "4           201901           강원         강릉시  건강보조식품 소매업          강원   \n",
       "...            ...          ...         ...         ...         ...   \n",
       "24697787    202003           충북         충주시    휴양콘도 운영업          충북   \n",
       "24697788    202003           충북         충주시    휴양콘도 운영업          충북   \n",
       "24697789    202003           충북         충주시    휴양콘도 운영업          충북   \n",
       "24697790    202003           충북         충주시    휴양콘도 운영업          충북   \n",
       "24697791    202003           충북         충주시    휴양콘도 운영업          충북   \n",
       "\n",
       "         HOM_CCG_NM  AGE  SEX_CTGO_CD  FLC  CSTMR_CNT      AMT  CNT  \n",
       "0               강릉시  20s            1    1          4   311200    4  \n",
       "1               강릉시  30s            1    2          7  1374500    8  \n",
       "2               강릉시  30s            2    2          6   818700    6  \n",
       "3               강릉시  40s            1    3          4  1717000    5  \n",
       "4               강릉시  40s            1    4          3  1047300    3  \n",
       "...             ...  ...          ...  ...        ...      ...  ...  \n",
       "24697787        충주시  30s            1    2          3    43300    4  \n",
       "24697788        충주시  40s            1    3          3    35000    3  \n",
       "24697789        충주시  50s            1    4          4   188000    6  \n",
       "24697790        충주시  50s            2    4          4    99000    6  \n",
       "24697791        충주시  60s            1    5          3   194000    3  \n",
       "\n",
       "[24697792 rows x 12 columns]"
      ]
     },
     "execution_count": 215,
     "metadata": {},
     "output_type": "execute_result"
    }
   ],
   "source": [
    "data"
   ]
  }
 ],
 "metadata": {
  "kernelspec": {
   "display_name": "Python 3",
   "language": "python",
   "name": "python3"
  },
  "language_info": {
   "codemirror_mode": {
    "name": "ipython",
    "version": 3
   },
   "file_extension": ".py",
   "mimetype": "text/x-python",
   "name": "python",
   "nbconvert_exporter": "python",
   "pygments_lexer": "ipython3",
   "version": "3.7.6"
  }
 },
 "nbformat": 4,
 "nbformat_minor": 4
}

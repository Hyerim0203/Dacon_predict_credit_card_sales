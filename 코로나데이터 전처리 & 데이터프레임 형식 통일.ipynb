{
 "cells": [
  {
   "cell_type": "code",
   "execution_count": 1,
   "metadata": {
    "scrolled": false
   },
   "outputs": [],
   "source": [
    "import pandas as pd\n",
    "import numpy as np\n",
    "import sklearn\n",
    "from sklearn.ensemble import RandomForestRegressor\n",
    "from sklearn.preprocessing import LabelEncoder\n",
    "# from lightgbm.sklearn import LGBMRegressor\n",
    "# import lightgbm as lgb\n"
   ]
  },
  {
   "cell_type": "markdown",
   "metadata": {},
   "source": [
    "# 코로나 데이터 처리"
   ]
  },
  {
   "cell_type": "code",
   "execution_count": 2,
   "metadata": {},
   "outputs": [],
   "source": [
    "#코로나 데이터 읽어오기\n",
    "covid = pd.read_csv('data_ver1/Covid19.csv')"
   ]
  },
  {
   "cell_type": "code",
   "execution_count": null,
   "metadata": {},
   "outputs": [],
   "source": [
    "def grap_year(data):\n",
    "    data = str(data)\n",
    "    return int(data[:4])\n",
    "\n",
    "def grap_month(data):\n",
    "    data = str(data)\n",
    "    return int(data[4:])\n",
    "\n",
    "def grap_month_covid(data):\n",
    "    data = str(data)\n",
    "    return int(data[5:7])\n",
    "\n",
    "def grap_date_covid(data):\n",
    "    data = str(data)\n",
    "    return int(data[8:10])"
   ]
  },
  {
   "cell_type": "code",
   "execution_count": 8,
   "metadata": {},
   "outputs": [],
   "source": [
    "#데이터에서 불필요한 칼럼 제거 & 1,2,3,4월 데이터만 가져오기\n",
    "covid = covid.drop(['time','released','deceased'],axis=1)\n",
    "covid = covid[covid['date'].isin(['2020-01-31','2020-02-29','2020-03-31','2020-04-30'])]\n",
    "\n",
    "#연월 형식 변경\n",
    "covid['month'] = covid['date'].apply(lambda x: grap_month_covid(x))\n",
    "covid['year'] = covid['date'].apply(lambda x: grap_year(x))\n",
    "covid = covid.drop(['date'],axis=1)\n",
    "covid = covid.sort_values(by=['province','year','month'])\n",
    "\n",
    "be = ['Seoul', 'Busan', 'Daegu', 'Incheon', 'Gwangju', 'Daejeon',\n",
    "       'Ulsan', 'Sejong', 'Gyeonggi-do', 'Gangwon-do',\n",
    "       'Chungcheongbuk-do', 'Chungcheongnam-do', 'Jeollabuk-do',\n",
    "       'Jeollanam-do', 'Gyeongsangbuk-do', 'Gyeongsangnam-do', 'Jeju-do']\n",
    "af = ['서울', '부산', '대구', '인천', '광주', '대전', '울산', '세종', '경기', '강원', '충북',\n",
    "       '충남', '전북', '전남', '경북', '경남', '제주']\n",
    "\n",
    "# 지역 이름 한글로 변경\n",
    "for i in range(len(covid['province'].unique())):\n",
    "    covid['province'].replace(be[i],af[i], inplace=True)"
   ]
  },
  {
   "cell_type": "code",
   "execution_count": 9,
   "metadata": {},
   "outputs": [],
   "source": [
    "covid_eda = covid.copy()\n",
    "\n",
    "#누적된 코로나 확진자수 월별 확진자수로 변경\n",
    "for i in range(len(covid)-1):\n",
    "    if covid.iloc[i+1,0]==covid.iloc[i,0]:\n",
    "        covid_eda.iloc[i+1,1]=covid.iloc[i+1,1]-covid.iloc[i,1]\n",
    "        \n",
    "covid_eda.rename({'province':'CARD_SIDO_NM'},axis='columns',inplace=True)"
   ]
  },
  {
   "cell_type": "code",
   "execution_count": 11,
   "metadata": {},
   "outputs": [
    {
     "data": {
      "text/html": [
       "<div>\n",
       "<style scoped>\n",
       "    .dataframe tbody tr th:only-of-type {\n",
       "        vertical-align: middle;\n",
       "    }\n",
       "\n",
       "    .dataframe tbody tr th {\n",
       "        vertical-align: top;\n",
       "    }\n",
       "\n",
       "    .dataframe thead th {\n",
       "        text-align: right;\n",
       "    }\n",
       "</style>\n",
       "<table border=\"1\" class=\"dataframe\">\n",
       "  <thead>\n",
       "    <tr style=\"text-align: right;\">\n",
       "      <th></th>\n",
       "      <th>CARD_SIDO_NM</th>\n",
       "      <th>confirmed</th>\n",
       "      <th>month</th>\n",
       "      <th>year</th>\n",
       "    </tr>\n",
       "  </thead>\n",
       "  <tbody>\n",
       "    <tr>\n",
       "      <th>188</th>\n",
       "      <td>부산</td>\n",
       "      <td>0</td>\n",
       "      <td>1</td>\n",
       "      <td>2020</td>\n",
       "    </tr>\n",
       "    <tr>\n",
       "      <th>681</th>\n",
       "      <td>부산</td>\n",
       "      <td>80</td>\n",
       "      <td>2</td>\n",
       "      <td>2020</td>\n",
       "    </tr>\n",
       "    <tr>\n",
       "      <th>1208</th>\n",
       "      <td>부산</td>\n",
       "      <td>39</td>\n",
       "      <td>3</td>\n",
       "      <td>2020</td>\n",
       "    </tr>\n",
       "    <tr>\n",
       "      <th>1718</th>\n",
       "      <td>부산</td>\n",
       "      <td>18</td>\n",
       "      <td>4</td>\n",
       "      <td>2020</td>\n",
       "    </tr>\n",
       "    <tr>\n",
       "      <th>197</th>\n",
       "      <td>충북</td>\n",
       "      <td>0</td>\n",
       "      <td>1</td>\n",
       "      <td>2020</td>\n",
       "    </tr>\n",
       "    <tr>\n",
       "      <th>...</th>\n",
       "      <td>...</td>\n",
       "      <td>...</td>\n",
       "      <td>...</td>\n",
       "      <td>...</td>\n",
       "    </tr>\n",
       "    <tr>\n",
       "      <th>1717</th>\n",
       "      <td>서울</td>\n",
       "      <td>183</td>\n",
       "      <td>4</td>\n",
       "      <td>2020</td>\n",
       "    </tr>\n",
       "    <tr>\n",
       "      <th>193</th>\n",
       "      <td>울산</td>\n",
       "      <td>0</td>\n",
       "      <td>1</td>\n",
       "      <td>2020</td>\n",
       "    </tr>\n",
       "    <tr>\n",
       "      <th>686</th>\n",
       "      <td>울산</td>\n",
       "      <td>17</td>\n",
       "      <td>2</td>\n",
       "      <td>2020</td>\n",
       "    </tr>\n",
       "    <tr>\n",
       "      <th>1213</th>\n",
       "      <td>울산</td>\n",
       "      <td>22</td>\n",
       "      <td>3</td>\n",
       "      <td>2020</td>\n",
       "    </tr>\n",
       "    <tr>\n",
       "      <th>1723</th>\n",
       "      <td>울산</td>\n",
       "      <td>4</td>\n",
       "      <td>4</td>\n",
       "      <td>2020</td>\n",
       "    </tr>\n",
       "  </tbody>\n",
       "</table>\n",
       "<p>68 rows × 4 columns</p>\n",
       "</div>"
      ],
      "text/plain": [
       "     CARD_SIDO_NM  confirmed  month  year\n",
       "188            부산          0      1  2020\n",
       "681            부산         80      2  2020\n",
       "1208           부산         39      3  2020\n",
       "1718           부산         18      4  2020\n",
       "197            충북          0      1  2020\n",
       "...           ...        ...    ...   ...\n",
       "1717           서울        183      4  2020\n",
       "193            울산          0      1  2020\n",
       "686            울산         17      2  2020\n",
       "1213           울산         22      3  2020\n",
       "1723           울산          4      4  2020\n",
       "\n",
       "[68 rows x 4 columns]"
      ]
     },
     "execution_count": 11,
     "metadata": {},
     "output_type": "execute_result"
    }
   ],
   "source": [
    "covid_eda"
   ]
  },
  {
   "cell_type": "markdown",
   "metadata": {},
   "source": [
    "# 데이터프레임 통일작업(칼럼명, 칼럼값 형식 등)"
   ]
  },
  {
   "cell_type": "code",
   "execution_count": null,
   "metadata": {},
   "outputs": [],
   "source": [
    "#데이터 불러오기\n",
    "data_ = pd.read_csv('data_ver1/201901-202003.csv')"
   ]
  },
  {
   "cell_type": "code",
   "execution_count": null,
   "metadata": {},
   "outputs": [],
   "source": [
    "#원본 데이터프레임 복사\n",
    "bm = data.copy()"
   ]
  },
  {
   "cell_type": "code",
   "execution_count": null,
   "metadata": {},
   "outputs": [],
   "source": [
    "#날짜 전처리\n",
    "bm['month'] = bm['REG_YYMM'].apply(lambda x: grap_month(x))\n",
    "bm['year'] = bm['REG_YYMM'].apply(lambda x: grap_year(x))\n",
    "bm = bm.drop(['REG_YYMM'],axis=1)"
   ]
  },
  {
   "cell_type": "code",
   "execution_count": null,
   "metadata": {},
   "outputs": [],
   "source": [
    "#필요없는 피처 제거\n",
    "bm = bm.drop(['CARD_CCG_NM', 'HOM_CCG_NM','SEX_CTGO_CD','CSTMR_CNT','CNT'], axis=1)"
   ]
  },
  {
   "cell_type": "code",
   "execution_count": null,
   "metadata": {},
   "outputs": [],
   "source": [
    "#10대20대, 나머지 세대 구분\n",
    "bm['AGE']= bm['AGE'].apply(lambda x: '1020s' if x =='10s'or x=='20s' else '3060s')"
   ]
  },
  {
   "cell_type": "code",
   "execution_count": null,
   "metadata": {},
   "outputs": [],
   "source": [
    "#독신, 나머지 구분\n",
    "bm['FLC']= bm['FLC'].apply(lambda x: 'single' if x ==1 else 'family')"
   ]
  },
  {
   "cell_type": "code",
   "execution_count": null,
   "metadata": {},
   "outputs": [],
   "source": [
    "#남은 피처 기준으로 groupby후 사용금액 더하기\n",
    "columns = ['CARD_SIDO_NM', 'STD_CLSS_NM', 'HOM_SIDO_NM','AGE','year','FLC','month']\n",
    "bm = bm.groupby(columns).sum().reset_index(drop=False)"
   ]
  },
  {
   "cell_type": "code",
   "execution_count": null,
   "metadata": {},
   "outputs": [],
   "source": [
    "#관광지 구분(1,0 표시)\n",
    "travel = ['제주','대구','전북','인천','부산','대전','광주','강원']\n",
    "bm['out_home']= bm['CARD_SIDO_NM'].apply(lambda x: 1 if x in travel else 0)"
   ]
  },
  {
   "cell_type": "code",
   "execution_count": null,
   "metadata": {},
   "outputs": [],
   "source": [
    "#카드 사용 지역과 거주지 동일여부로 데이터프레임 분리\n",
    "home_condition = bm['CARD_SIDO_NM']==bm['HOM_SIDO_NM']\n",
    "home = bm[home_condition]\n",
    "\n",
    "out_condition = bm['CARD_SIDO_NM']!=bm['HOM_SIDO_NM']\n",
    "out = bm[out_condition]"
   ]
  }
 ],
 "metadata": {
  "kernelspec": {
   "display_name": "Python 3",
   "language": "python",
   "name": "python3"
  },
  "language_info": {
   "codemirror_mode": {
    "name": "ipython",
    "version": 3
   },
   "file_extension": ".py",
   "mimetype": "text/x-python",
   "name": "python",
   "nbconvert_exporter": "python",
   "pygments_lexer": "ipython3",
   "version": "3.7.6"
  }
 },
 "nbformat": 4,
 "nbformat_minor": 4
}
